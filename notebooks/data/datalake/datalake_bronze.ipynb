{
 "cells": [
  {
   "cell_type": "markdown",
   "id": "f2ca3a85",
   "metadata": {},
   "source": [
    "# 📓 POC Data Lakehouse Binance avec MinIO, DuckDB, Polars et Iceberg\n",
    "\n",
    "## 1. Introduction & Objectifs\n",
    "\n",
    "Dans ce notebook, nous construisons un **pipeline de données moderne (Lakehouse)** en utilisant :\n",
    "\n",
    "- **MinIO** (S3-compatible) pour le stockage objet  \n",
    "- **Polars** pour le traitement des fichiers CSV  \n",
    "- **DuckDB** pour la transformation et l’écriture en Parquet partitionné  \n",
    "\n",
    "### Architecture du pipeline\n",
    "\n",
    "- **bronze** : stockage brut (`.zip` tels que téléchargés depuis Binance)  \n",
    "- **silver** : données raffinées au format **Parquet**, partitionnées par `year/month/day`  \n",
    "- **gold** : tables **Iceberg**, ajoutant les métadonnées pour time travel, gouvernance et gestion des snapshots  \n",
    "\n",
    "---"
   ]
  },
  {
   "cell_type": "markdown",
   "id": "c113bbeb",
   "metadata": {},
   "source": [
    "---\n",
    "\n",
    "## 2. Configuration MinIO\n",
    "### Démarrer ou redémarrer MinIO\n",
    "\n",
    "- sudo systemctl start minio   # pour lancer\n",
    "- sudo systemctl restart minio # si déjà lancé mais bloqué\n",
    "- sudo systemctl status minio  # vérifier que ça tourne\n",
    "\n",
    "### Supprimer un bucket et son contenu :\n",
    "- mc rb --force myminio/nom_du_bucket\n",
    "\n",
    "\n",
    "\n",
    "\n",
    "Nous partons du principe que **MinIO tourne en mode standalone**.  \n",
    "Exemple de lancement :\n",
    "\n",
    "```bash\n",
    "minio server /media/giujorge/Stockage/DATA/minio-data --console-address \":9001\"\n",
    "```\n",
    "\n",
    "---\n",
    "\n",
    "### commandes utiles Minio\n",
    "- mc rm --recursive --force minio/bronze\n",
    "\n",
    "- mc alias list\n",
    "\n",
    "- mc ls minio\n",
    "\n",
    "\n",
    "---\n"
   ]
  },
  {
   "cell_type": "code",
   "execution_count": 1,
   "id": "121ca096",
   "metadata": {},
   "outputs": [],
   "source": [
    "from minio import Minio\n",
    "import os\n",
    "\n",
    "# Config MinIO\n",
    "MINIO_ENDPOINT = \"localhost:9000\"\n",
    "MINIO_ACCESS_KEY = os.getenv(\"MINIO_ROOT_USER\", \"minioadm\")\n",
    "MINIO_SECRET_KEY = os.getenv(\"MINIO_ROOT_PASSWORD\", \"minioadm\")\n",
    "\n",
    "client = Minio(\n",
    "    MINIO_ENDPOINT,\n",
    "    access_key=MINIO_ACCESS_KEY,\n",
    "    secret_key=MINIO_SECRET_KEY,\n",
    "    secure=False\n",
    ")\n"
   ]
  },
  {
   "cell_type": "markdown",
   "id": "42c2f818",
   "metadata": {},
   "source": [
    "---\n",
    "\n",
    "## 3. Création des buckets (zones du data lake)\n",
    "\n",
    "Nous créons trois buckets suivant les bonnes pratiques :\n",
    "\n",
    "- **bronze** : fichiers bruts  \n",
    "- **silver** : Parquet partitionnés  \n",
    "- **gold** : tables Iceberg  \n",
    "\n",
    "---\n"
   ]
  },
  {
   "cell_type": "code",
   "execution_count": 2,
   "id": "ee62b853",
   "metadata": {},
   "outputs": [
    {
     "name": "stdout",
     "output_type": "stream",
     "text": [
      "Bucket bronze déjà existant\n",
      "Bucket silver déjà existant\n",
      "Bucket gold déjà existant\n"
     ]
    }
   ],
   "source": [
    "for bucket in [\"bronze\", \"silver\", \"gold\"]:\n",
    "    if not client.bucket_exists(bucket):\n",
    "        client.make_bucket(bucket)\n",
    "        print(f\"Bucket {bucket} créé ✅\")\n",
    "    else:\n",
    "        print(f\"Bucket {bucket} déjà existant\")\n"
   ]
  },
  {
   "cell_type": "markdown",
   "id": "f5c53f1f",
   "metadata": {},
   "source": [
    "### vérifiaction création fichiers\n",
    "\n",
    "- ```mc alias set minio http://127.0.0.1:9000 ton_access_key ton_secret_key```\n",
    "- ```mc ls minio```"
   ]
  },
  {
   "cell_type": "markdown",
   "id": "e183854d",
   "metadata": {},
   "source": [
    "---\n",
    "\n",
    "## 4. Sauvegarde raffinée en *bronze* (Parquet partitionné)\n",
    "\n",
    "Nous utilisons **DuckDB** pour écrire en Parquet partitionné (`year/month/day`) dans le bucket *bronze*.  \n",
    "\n",
    "---\n",
    "\n",
    "## 🚀 Version Optimisée - Pipeline de Traitement des Données\n",
    "\n",
    "Cette version réécrite présente plusieurs améliorations :\n",
    "\n",
    "### ✨ **Améliorations apportées**\n",
    "\n",
    "1. **Architecture orientée objet** : Code structuré avec la classe `BinanceDataProcessor`\n",
    "2. **Gestion d'erreurs robuste** : Meilleure gestion des exceptions et nettoyage automatique\n",
    "3. **Détection automatique des timestamps** : Identification automatique des unités (s/ms/µs)\n",
    "4. **Code modulaire** : Chaque étape est dans une méthode séparée pour faciliter la maintenance\n",
    "5. **Configuration centralisée** : Tous les paramètres dans un dictionnaire\n",
    "6. **Rapport détaillé** : Résumé complet avec statistiques et erreurs\n",
    "\n",
    "### 🔧 **Fonctionnalités**\n",
    "\n",
    "- **Traitement par batch** : Traite tous les fichiers ZIP automatiquement\n",
    "- **Partitionnement intelligent** : Partitionnement par `year/month/day`\n",
    "- **Nettoyage automatique** : Suppression des objets temporaires DuckDB\n",
    "- **Logging détaillé** : Affichage du progrès et des erreurs\n",
    "- **Validation des données** : Vérification des fenêtres temporelles\n",
    "\n",
    "### 📊 **Utilisation**\n",
    "\n",
    "Le code s'exécute automatiquement avec la configuration par défaut. Pour personnaliser, modifiez le dictionnaire `config`.\n",
    "\n",
    "---"
   ]
  },
  {
   "cell_type": "code",
   "execution_count": 3,
   "id": "af700f49",
   "metadata": {},
   "outputs": [
    {
     "name": "stdout",
     "output_type": "stream",
     "text": [
      "🚀 Début du traitement de 97 fichiers\n",
      "🎯 Destination: s3://bronze/binance/data/spot/monthly/klines/BTCUSDT/4h/\n",
      "\n",
      "📁 Traitement: BTCUSDT-4h-2017-08.zip\n",
      "   📊 89 lignes | 2017-08-17 04:00:00 → 2017-08-31 20:00:00\n"
     ]
    },
    {
     "name": "stderr",
     "output_type": "stream",
     "text": [
      "/tmp/ipykernel_7197/2400263129.py:44: UserWarning: Polars found a filename. Ensure you pass a path to the file instead of a python file object when possible for best performance.\n",
      "  df = pl.read_csv(f, has_header=False, new_columns=self.csv_columns)\n"
     ]
    },
    {
     "data": {
      "application/vnd.jupyter.widget-view+json": {
       "model_id": "24dcc9bc258e4f00bebe3c597ecbfe52",
       "version_major": 2,
       "version_minor": 0
      },
      "text/plain": [
       "FloatProgress(value=0.0, layout=Layout(width='auto'), style=ProgressStyle(bar_color='black'))"
      ]
     },
     "metadata": {},
     "output_type": "display_data"
    },
    {
     "name": "stdout",
     "output_type": "stream",
     "text": [
      "   ✅ Sauvegardé dans bronze\n",
      "📁 Traitement: BTCUSDT-4h-2017-09.zip\n"
     ]
    },
    {
     "name": "stderr",
     "output_type": "stream",
     "text": [
      "/tmp/ipykernel_7197/2400263129.py:44: UserWarning: Polars found a filename. Ensure you pass a path to the file instead of a python file object when possible for best performance.\n",
      "  df = pl.read_csv(f, has_header=False, new_columns=self.csv_columns)\n"
     ]
    },
    {
     "name": "stdout",
     "output_type": "stream",
     "text": [
      "   📊 179 lignes | 2017-09-01 00:00:00 → 2017-09-30 20:00:00\n"
     ]
    },
    {
     "data": {
      "application/vnd.jupyter.widget-view+json": {
       "model_id": "19db793487214b2aa8025455d48d9972",
       "version_major": 2,
       "version_minor": 0
      },
      "text/plain": [
       "FloatProgress(value=0.0, layout=Layout(width='auto'), style=ProgressStyle(bar_color='black'))"
      ]
     },
     "metadata": {},
     "output_type": "display_data"
    },
    {
     "name": "stdout",
     "output_type": "stream",
     "text": [
      "   ✅ Sauvegardé dans bronze\n",
      "📁 Traitement: BTCUSDT-4h-2017-10.zip\n",
      "   📊 186 lignes | 2017-10-01 00:00:00 → 2017-10-31 20:00:00\n"
     ]
    },
    {
     "data": {
      "application/vnd.jupyter.widget-view+json": {
       "model_id": "c817ec021ff9436d89e1342178f25c62",
       "version_major": 2,
       "version_minor": 0
      },
      "text/plain": [
       "FloatProgress(value=0.0, layout=Layout(width='auto'), style=ProgressStyle(bar_color='black'))"
      ]
     },
     "metadata": {},
     "output_type": "display_data"
    },
    {
     "name": "stdout",
     "output_type": "stream",
     "text": [
      "   ✅ Sauvegardé dans bronze\n",
      "📁 Traitement: BTCUSDT-4h-2017-11.zip\n",
      "   📊 180 lignes | 2017-11-01 00:00:00 → 2017-11-30 20:00:00\n"
     ]
    },
    {
     "data": {
      "application/vnd.jupyter.widget-view+json": {
       "model_id": "a5e655586b3e41bb9d309c65bee27889",
       "version_major": 2,
       "version_minor": 0
      },
      "text/plain": [
       "FloatProgress(value=0.0, layout=Layout(width='auto'), style=ProgressStyle(bar_color='black'))"
      ]
     },
     "metadata": {},
     "output_type": "display_data"
    },
    {
     "name": "stdout",
     "output_type": "stream",
     "text": [
      "   ✅ Sauvegardé dans bronze\n",
      "📁 Traitement: BTCUSDT-4h-2017-12.zip\n",
      "   📊 186 lignes | 2017-12-01 00:00:00 → 2017-12-31 20:00:00\n"
     ]
    },
    {
     "data": {
      "application/vnd.jupyter.widget-view+json": {
       "model_id": "414adb40bf3447d6aeb3fbfa15c5629d",
       "version_major": 2,
       "version_minor": 0
      },
      "text/plain": [
       "FloatProgress(value=0.0, layout=Layout(width='auto'), style=ProgressStyle(bar_color='black'))"
      ]
     },
     "metadata": {},
     "output_type": "display_data"
    },
    {
     "name": "stdout",
     "output_type": "stream",
     "text": [
      "   ✅ Sauvegardé dans bronze\n",
      "📁 Traitement: BTCUSDT-4h-2018-01.zip\n",
      "   📊 186 lignes | 2018-01-01 00:00:00 → 2018-01-31 20:00:00\n"
     ]
    },
    {
     "data": {
      "application/vnd.jupyter.widget-view+json": {
       "model_id": "1a57b88757bd4c53a6a67a10ab21e175",
       "version_major": 2,
       "version_minor": 0
      },
      "text/plain": [
       "FloatProgress(value=0.0, layout=Layout(width='auto'), style=ProgressStyle(bar_color='black'))"
      ]
     },
     "metadata": {},
     "output_type": "display_data"
    },
    {
     "name": "stdout",
     "output_type": "stream",
     "text": [
      "   ✅ Sauvegardé dans bronze\n",
      "📁 Traitement: BTCUSDT-4h-2018-02.zip\n",
      "   📊 161 lignes | 2018-02-01 00:00:00 → 2018-02-28 20:00:00\n"
     ]
    },
    {
     "data": {
      "application/vnd.jupyter.widget-view+json": {
       "model_id": "232970f3836241e7881149f01bd624fe",
       "version_major": 2,
       "version_minor": 0
      },
      "text/plain": [
       "FloatProgress(value=0.0, layout=Layout(width='auto'), style=ProgressStyle(bar_color='black'))"
      ]
     },
     "metadata": {},
     "output_type": "display_data"
    },
    {
     "name": "stdout",
     "output_type": "stream",
     "text": [
      "   ✅ Sauvegardé dans bronze\n",
      "📁 Traitement: BTCUSDT-4h-2018-03.zip\n",
      "   📊 186 lignes | 2018-03-01 00:00:00 → 2018-03-31 20:00:00\n"
     ]
    },
    {
     "data": {
      "application/vnd.jupyter.widget-view+json": {
       "model_id": "1a7e4b888d374aae8d3a8a2378788bc1",
       "version_major": 2,
       "version_minor": 0
      },
      "text/plain": [
       "FloatProgress(value=0.0, layout=Layout(width='auto'), style=ProgressStyle(bar_color='black'))"
      ]
     },
     "metadata": {},
     "output_type": "display_data"
    },
    {
     "name": "stdout",
     "output_type": "stream",
     "text": [
      "   ✅ Sauvegardé dans bronze\n",
      "📁 Traitement: BTCUSDT-4h-2018-04.zip\n",
      "   📊 180 lignes | 2018-04-01 00:00:00 → 2018-04-30 20:00:00\n"
     ]
    },
    {
     "data": {
      "application/vnd.jupyter.widget-view+json": {
       "model_id": "dd32b0410a064861a8cd821e3ae32b3d",
       "version_major": 2,
       "version_minor": 0
      },
      "text/plain": [
       "FloatProgress(value=0.0, layout=Layout(width='auto'), style=ProgressStyle(bar_color='black'))"
      ]
     },
     "metadata": {},
     "output_type": "display_data"
    },
    {
     "name": "stdout",
     "output_type": "stream",
     "text": [
      "   ✅ Sauvegardé dans bronze\n",
      "📁 Traitement: BTCUSDT-4h-2018-05.zip\n",
      "   📊 186 lignes | 2018-05-01 00:00:00 → 2018-05-31 20:00:00\n"
     ]
    },
    {
     "data": {
      "application/vnd.jupyter.widget-view+json": {
       "model_id": "dae59936ae6e4ff19635743a1f8d78b3",
       "version_major": 2,
       "version_minor": 0
      },
      "text/plain": [
       "FloatProgress(value=0.0, layout=Layout(width='auto'), style=ProgressStyle(bar_color='black'))"
      ]
     },
     "metadata": {},
     "output_type": "display_data"
    },
    {
     "name": "stdout",
     "output_type": "stream",
     "text": [
      "   ✅ Sauvegardé dans bronze\n",
      "📁 Traitement: BTCUSDT-4h-2018-06.zip\n",
      "   📊 178 lignes | 2018-06-01 00:00:00 → 2018-06-30 20:00:00\n"
     ]
    },
    {
     "data": {
      "application/vnd.jupyter.widget-view+json": {
       "model_id": "3a682c71997449be9291eebd98d4c2c3",
       "version_major": 2,
       "version_minor": 0
      },
      "text/plain": [
       "FloatProgress(value=0.0, layout=Layout(width='auto'), style=ProgressStyle(bar_color='black'))"
      ]
     },
     "metadata": {},
     "output_type": "display_data"
    },
    {
     "name": "stdout",
     "output_type": "stream",
     "text": [
      "   ✅ Sauvegardé dans bronze\n",
      "📁 Traitement: BTCUSDT-4h-2018-07.zip\n",
      "   📊 185 lignes | 2018-07-01 00:00:00 → 2018-07-31 20:00:00\n"
     ]
    },
    {
     "data": {
      "application/vnd.jupyter.widget-view+json": {
       "model_id": "a600cdc5eb064042b61592a6a03dda8c",
       "version_major": 2,
       "version_minor": 0
      },
      "text/plain": [
       "FloatProgress(value=0.0, layout=Layout(width='auto'), style=ProgressStyle(bar_color='black'))"
      ]
     },
     "metadata": {},
     "output_type": "display_data"
    },
    {
     "name": "stdout",
     "output_type": "stream",
     "text": [
      "   ✅ Sauvegardé dans bronze\n",
      "📁 Traitement: BTCUSDT-4h-2018-08.zip\n",
      "   📊 186 lignes | 2018-08-01 00:00:00 → 2018-08-31 20:00:00\n"
     ]
    },
    {
     "data": {
      "application/vnd.jupyter.widget-view+json": {
       "model_id": "6936b036f5fc456a85b1b372600c1682",
       "version_major": 2,
       "version_minor": 0
      },
      "text/plain": [
       "FloatProgress(value=0.0, layout=Layout(width='auto'), style=ProgressStyle(bar_color='black'))"
      ]
     },
     "metadata": {},
     "output_type": "display_data"
    },
    {
     "name": "stdout",
     "output_type": "stream",
     "text": [
      "   ✅ Sauvegardé dans bronze\n",
      "📁 Traitement: BTCUSDT-4h-2018-09.zip\n",
      "   📊 180 lignes | 2018-09-01 00:00:00 → 2018-09-30 20:00:00\n"
     ]
    },
    {
     "data": {
      "application/vnd.jupyter.widget-view+json": {
       "model_id": "4380833f796547da850885584809f0f7",
       "version_major": 2,
       "version_minor": 0
      },
      "text/plain": [
       "FloatProgress(value=0.0, layout=Layout(width='auto'), style=ProgressStyle(bar_color='black'))"
      ]
     },
     "metadata": {},
     "output_type": "display_data"
    },
    {
     "name": "stdout",
     "output_type": "stream",
     "text": [
      "   ✅ Sauvegardé dans bronze\n",
      "📁 Traitement: BTCUSDT-4h-2018-10.zip\n",
      "   📊 186 lignes | 2018-10-01 00:00:00 → 2018-10-31 20:00:00\n"
     ]
    },
    {
     "data": {
      "application/vnd.jupyter.widget-view+json": {
       "model_id": "3bc0a879f954482ea451a72c60d7cf76",
       "version_major": 2,
       "version_minor": 0
      },
      "text/plain": [
       "FloatProgress(value=0.0, layout=Layout(width='auto'), style=ProgressStyle(bar_color='black'))"
      ]
     },
     "metadata": {},
     "output_type": "display_data"
    },
    {
     "name": "stdout",
     "output_type": "stream",
     "text": [
      "   ✅ Sauvegardé dans bronze\n",
      "📁 Traitement: BTCUSDT-4h-2018-11.zip\n",
      "   📊 179 lignes | 2018-11-01 00:00:00 → 2018-11-30 20:00:00\n"
     ]
    },
    {
     "data": {
      "application/vnd.jupyter.widget-view+json": {
       "model_id": "23739da234b746e29f4f2661c3e01ade",
       "version_major": 2,
       "version_minor": 0
      },
      "text/plain": [
       "FloatProgress(value=0.0, layout=Layout(width='auto'), style=ProgressStyle(bar_color='black'))"
      ]
     },
     "metadata": {},
     "output_type": "display_data"
    },
    {
     "name": "stdout",
     "output_type": "stream",
     "text": [
      "   ✅ Sauvegardé dans bronze\n",
      "📁 Traitement: BTCUSDT-4h-2018-12.zip\n",
      "   📊 186 lignes | 2018-12-01 00:00:00 → 2018-12-31 20:00:00\n"
     ]
    },
    {
     "data": {
      "application/vnd.jupyter.widget-view+json": {
       "model_id": "577551f301e240208657a83f90edf3f4",
       "version_major": 2,
       "version_minor": 0
      },
      "text/plain": [
       "FloatProgress(value=0.0, layout=Layout(width='auto'), style=ProgressStyle(bar_color='black'))"
      ]
     },
     "metadata": {},
     "output_type": "display_data"
    },
    {
     "name": "stdout",
     "output_type": "stream",
     "text": [
      "   ✅ Sauvegardé dans bronze\n",
      "📁 Traitement: BTCUSDT-4h-2019-01.zip\n",
      "   📊 186 lignes | 2019-01-01 00:00:00 → 2019-01-31 20:00:00\n"
     ]
    },
    {
     "data": {
      "application/vnd.jupyter.widget-view+json": {
       "model_id": "9b91ccf4569740618ba225316d00b2c9",
       "version_major": 2,
       "version_minor": 0
      },
      "text/plain": [
       "FloatProgress(value=0.0, layout=Layout(width='auto'), style=ProgressStyle(bar_color='black'))"
      ]
     },
     "metadata": {},
     "output_type": "display_data"
    },
    {
     "name": "stdout",
     "output_type": "stream",
     "text": [
      "   ✅ Sauvegardé dans bronze\n",
      "📁 Traitement: BTCUSDT-4h-2019-02.zip\n",
      "   📊 168 lignes | 2019-02-01 00:00:00 → 2019-02-28 20:00:00\n"
     ]
    },
    {
     "data": {
      "application/vnd.jupyter.widget-view+json": {
       "model_id": "3c2a4266f0834879958e2dc23caf2c56",
       "version_major": 2,
       "version_minor": 0
      },
      "text/plain": [
       "FloatProgress(value=0.0, layout=Layout(width='auto'), style=ProgressStyle(bar_color='black'))"
      ]
     },
     "metadata": {},
     "output_type": "display_data"
    },
    {
     "name": "stdout",
     "output_type": "stream",
     "text": [
      "   ✅ Sauvegardé dans bronze\n",
      "📁 Traitement: BTCUSDT-4h-2019-03.zip\n",
      "   📊 185 lignes | 2019-03-01 00:00:00 → 2019-03-31 20:00:00\n"
     ]
    },
    {
     "data": {
      "application/vnd.jupyter.widget-view+json": {
       "model_id": "32445b38a84a4ebb98678f3af522ca6d",
       "version_major": 2,
       "version_minor": 0
      },
      "text/plain": [
       "FloatProgress(value=0.0, layout=Layout(width='auto'), style=ProgressStyle(bar_color='black'))"
      ]
     },
     "metadata": {},
     "output_type": "display_data"
    },
    {
     "name": "stdout",
     "output_type": "stream",
     "text": [
      "   ✅ Sauvegardé dans bronze\n",
      "📁 Traitement: BTCUSDT-4h-2019-04.zip\n",
      "   📊 180 lignes | 2019-04-01 00:00:00 → 2019-04-30 20:00:00\n"
     ]
    },
    {
     "data": {
      "application/vnd.jupyter.widget-view+json": {
       "model_id": "3dfee7bdeecf44399eff1c2f2fad9b72",
       "version_major": 2,
       "version_minor": 0
      },
      "text/plain": [
       "FloatProgress(value=0.0, layout=Layout(width='auto'), style=ProgressStyle(bar_color='black'))"
      ]
     },
     "metadata": {},
     "output_type": "display_data"
    },
    {
     "name": "stdout",
     "output_type": "stream",
     "text": [
      "   ✅ Sauvegardé dans bronze\n",
      "📁 Traitement: BTCUSDT-4h-2019-05.zip\n",
      "   📊 184 lignes | 2019-05-01 00:00:00 → 2019-05-31 20:00:00\n"
     ]
    },
    {
     "data": {
      "application/vnd.jupyter.widget-view+json": {
       "model_id": "f7b1903770d54246a80f5124b51a951f",
       "version_major": 2,
       "version_minor": 0
      },
      "text/plain": [
       "FloatProgress(value=0.0, layout=Layout(width='auto'), style=ProgressStyle(bar_color='black'))"
      ]
     },
     "metadata": {},
     "output_type": "display_data"
    },
    {
     "name": "stdout",
     "output_type": "stream",
     "text": [
      "   ✅ Sauvegardé dans bronze\n",
      "📁 Traitement: BTCUSDT-4h-2019-06.zip\n",
      "   📊 180 lignes | 2019-06-01 00:00:00 → 2019-06-30 20:00:00\n"
     ]
    },
    {
     "data": {
      "application/vnd.jupyter.widget-view+json": {
       "model_id": "3e4f04025ad8467bbd7ee26c96e9a504",
       "version_major": 2,
       "version_minor": 0
      },
      "text/plain": [
       "FloatProgress(value=0.0, layout=Layout(width='auto'), style=ProgressStyle(bar_color='black'))"
      ]
     },
     "metadata": {},
     "output_type": "display_data"
    },
    {
     "name": "stdout",
     "output_type": "stream",
     "text": [
      "   ✅ Sauvegardé dans bronze\n",
      "📁 Traitement: BTCUSDT-4h-2019-07.zip\n",
      "   📊 186 lignes | 2019-07-01 00:00:00 → 2019-07-31 20:00:00\n"
     ]
    },
    {
     "data": {
      "application/vnd.jupyter.widget-view+json": {
       "model_id": "253ebcbaa6924615a95c753e502934ef",
       "version_major": 2,
       "version_minor": 0
      },
      "text/plain": [
       "FloatProgress(value=0.0, layout=Layout(width='auto'), style=ProgressStyle(bar_color='black'))"
      ]
     },
     "metadata": {},
     "output_type": "display_data"
    },
    {
     "name": "stdout",
     "output_type": "stream",
     "text": [
      "   ✅ Sauvegardé dans bronze\n",
      "📁 Traitement: BTCUSDT-4h-2019-08.zip\n",
      "   📊 185 lignes | 2019-08-01 00:00:00 → 2019-08-31 20:00:00\n"
     ]
    },
    {
     "data": {
      "application/vnd.jupyter.widget-view+json": {
       "model_id": "a13f2936ae0744f4bd0284c754e871f3",
       "version_major": 2,
       "version_minor": 0
      },
      "text/plain": [
       "FloatProgress(value=0.0, layout=Layout(width='auto'), style=ProgressStyle(bar_color='black'))"
      ]
     },
     "metadata": {},
     "output_type": "display_data"
    },
    {
     "name": "stdout",
     "output_type": "stream",
     "text": [
      "   ✅ Sauvegardé dans bronze\n",
      "📁 Traitement: BTCUSDT-4h-2019-09.zip\n",
      "   📊 180 lignes | 2019-09-01 00:00:00 → 2019-09-30 20:00:00\n"
     ]
    },
    {
     "data": {
      "application/vnd.jupyter.widget-view+json": {
       "model_id": "9224e2c404b04f8d9ddb3fc4541447e5",
       "version_major": 2,
       "version_minor": 0
      },
      "text/plain": [
       "FloatProgress(value=0.0, layout=Layout(width='auto'), style=ProgressStyle(bar_color='black'))"
      ]
     },
     "metadata": {},
     "output_type": "display_data"
    },
    {
     "name": "stdout",
     "output_type": "stream",
     "text": [
      "   ✅ Sauvegardé dans bronze\n",
      "📁 Traitement: BTCUSDT-4h-2019-10.zip\n",
      "   📊 186 lignes | 2019-10-01 00:00:00 → 2019-10-31 20:00:00\n"
     ]
    },
    {
     "data": {
      "application/vnd.jupyter.widget-view+json": {
       "model_id": "bfe418e809bb4a52ab93d6fbbc6ef437",
       "version_major": 2,
       "version_minor": 0
      },
      "text/plain": [
       "FloatProgress(value=0.0, layout=Layout(width='auto'), style=ProgressStyle(bar_color='black'))"
      ]
     },
     "metadata": {},
     "output_type": "display_data"
    },
    {
     "name": "stdout",
     "output_type": "stream",
     "text": [
      "   ✅ Sauvegardé dans bronze\n",
      "📁 Traitement: BTCUSDT-4h-2019-11.zip\n",
      "   📊 180 lignes | 2019-11-01 00:00:00 → 2019-11-30 20:00:00\n"
     ]
    },
    {
     "data": {
      "application/vnd.jupyter.widget-view+json": {
       "model_id": "3bdd012cecb2486cbac9a5ee23fec1c2",
       "version_major": 2,
       "version_minor": 0
      },
      "text/plain": [
       "FloatProgress(value=0.0, layout=Layout(width='auto'), style=ProgressStyle(bar_color='black'))"
      ]
     },
     "metadata": {},
     "output_type": "display_data"
    },
    {
     "name": "stdout",
     "output_type": "stream",
     "text": [
      "   ✅ Sauvegardé dans bronze\n",
      "📁 Traitement: BTCUSDT-4h-2019-12.zip\n",
      "   📊 186 lignes | 2019-12-01 00:00:00 → 2019-12-31 20:00:00\n"
     ]
    },
    {
     "data": {
      "application/vnd.jupyter.widget-view+json": {
       "model_id": "42241b69eae844d1992c6716fe8196af",
       "version_major": 2,
       "version_minor": 0
      },
      "text/plain": [
       "FloatProgress(value=0.0, layout=Layout(width='auto'), style=ProgressStyle(bar_color='black'))"
      ]
     },
     "metadata": {},
     "output_type": "display_data"
    },
    {
     "name": "stdout",
     "output_type": "stream",
     "text": [
      "   ✅ Sauvegardé dans bronze\n",
      "📁 Traitement: BTCUSDT-4h-2020-01.zip\n",
      "   📊 186 lignes | 2020-01-01 00:00:00 → 2020-01-31 20:00:00\n"
     ]
    },
    {
     "data": {
      "application/vnd.jupyter.widget-view+json": {
       "model_id": "fcb7af1b43654393a839fd2f036d0d6d",
       "version_major": 2,
       "version_minor": 0
      },
      "text/plain": [
       "FloatProgress(value=0.0, layout=Layout(width='auto'), style=ProgressStyle(bar_color='black'))"
      ]
     },
     "metadata": {},
     "output_type": "display_data"
    },
    {
     "name": "stdout",
     "output_type": "stream",
     "text": [
      "   ✅ Sauvegardé dans bronze\n",
      "📁 Traitement: BTCUSDT-4h-2020-02.zip\n",
      "   📊 173 lignes | 2020-02-01 00:00:00 → 2020-02-29 20:00:00\n"
     ]
    },
    {
     "data": {
      "application/vnd.jupyter.widget-view+json": {
       "model_id": "ac76ce4951e145d5a4ab02803bfeda7a",
       "version_major": 2,
       "version_minor": 0
      },
      "text/plain": [
       "FloatProgress(value=0.0, layout=Layout(width='auto'), style=ProgressStyle(bar_color='black'))"
      ]
     },
     "metadata": {},
     "output_type": "display_data"
    },
    {
     "name": "stdout",
     "output_type": "stream",
     "text": [
      "   ✅ Sauvegardé dans bronze\n",
      "📁 Traitement: BTCUSDT-4h-2020-03.zip\n",
      "   📊 186 lignes | 2020-03-01 00:00:00 → 2020-03-31 20:00:00\n"
     ]
    },
    {
     "data": {
      "application/vnd.jupyter.widget-view+json": {
       "model_id": "0f5b59ed998548e4b9a53e3221ea866d",
       "version_major": 2,
       "version_minor": 0
      },
      "text/plain": [
       "FloatProgress(value=0.0, layout=Layout(width='auto'), style=ProgressStyle(bar_color='black'))"
      ]
     },
     "metadata": {},
     "output_type": "display_data"
    },
    {
     "name": "stdout",
     "output_type": "stream",
     "text": [
      "   ✅ Sauvegardé dans bronze\n",
      "📁 Traitement: BTCUSDT-4h-2020-04.zip\n",
      "   📊 180 lignes | 2020-04-01 00:00:00 → 2020-04-30 20:00:00\n"
     ]
    },
    {
     "data": {
      "application/vnd.jupyter.widget-view+json": {
       "model_id": "569ffd35aafa48039decb56988c057eb",
       "version_major": 2,
       "version_minor": 0
      },
      "text/plain": [
       "FloatProgress(value=0.0, layout=Layout(width='auto'), style=ProgressStyle(bar_color='black'))"
      ]
     },
     "metadata": {},
     "output_type": "display_data"
    },
    {
     "name": "stdout",
     "output_type": "stream",
     "text": [
      "   ✅ Sauvegardé dans bronze\n",
      "📁 Traitement: BTCUSDT-4h-2020-05.zip\n",
      "   📊 186 lignes | 2020-05-01 00:00:00 → 2020-05-31 20:00:00\n"
     ]
    },
    {
     "data": {
      "application/vnd.jupyter.widget-view+json": {
       "model_id": "c8f02b3615084d0488cedb9ae3929f66",
       "version_major": 2,
       "version_minor": 0
      },
      "text/plain": [
       "FloatProgress(value=0.0, layout=Layout(width='auto'), style=ProgressStyle(bar_color='black'))"
      ]
     },
     "metadata": {},
     "output_type": "display_data"
    },
    {
     "name": "stdout",
     "output_type": "stream",
     "text": [
      "   ✅ Sauvegardé dans bronze\n",
      "📁 Traitement: BTCUSDT-4h-2020-06.zip\n",
      "   📊 180 lignes | 2020-06-01 00:00:00 → 2020-06-30 20:00:00\n"
     ]
    },
    {
     "data": {
      "application/vnd.jupyter.widget-view+json": {
       "model_id": "23718f6d5ed04252850e703f5c0ea597",
       "version_major": 2,
       "version_minor": 0
      },
      "text/plain": [
       "FloatProgress(value=0.0, layout=Layout(width='auto'), style=ProgressStyle(bar_color='black'))"
      ]
     },
     "metadata": {},
     "output_type": "display_data"
    },
    {
     "name": "stdout",
     "output_type": "stream",
     "text": [
      "   ✅ Sauvegardé dans bronze\n",
      "📁 Traitement: BTCUSDT-4h-2020-07.zip\n",
      "   📊 186 lignes | 2020-07-01 00:00:00 → 2020-07-31 20:00:00\n"
     ]
    },
    {
     "data": {
      "application/vnd.jupyter.widget-view+json": {
       "model_id": "c46bc6121eef4b8f9101c01d8b524ec1",
       "version_major": 2,
       "version_minor": 0
      },
      "text/plain": [
       "FloatProgress(value=0.0, layout=Layout(width='auto'), style=ProgressStyle(bar_color='black'))"
      ]
     },
     "metadata": {},
     "output_type": "display_data"
    },
    {
     "name": "stdout",
     "output_type": "stream",
     "text": [
      "   ✅ Sauvegardé dans bronze\n",
      "📁 Traitement: BTCUSDT-4h-2020-08.zip\n",
      "   📊 186 lignes | 2020-08-01 00:00:00 → 2020-08-31 20:00:00\n"
     ]
    },
    {
     "data": {
      "application/vnd.jupyter.widget-view+json": {
       "model_id": "1a8d5fc1ae5f4e79b75017cf37fca755",
       "version_major": 2,
       "version_minor": 0
      },
      "text/plain": [
       "FloatProgress(value=0.0, layout=Layout(width='auto'), style=ProgressStyle(bar_color='black'))"
      ]
     },
     "metadata": {},
     "output_type": "display_data"
    },
    {
     "name": "stdout",
     "output_type": "stream",
     "text": [
      "   ✅ Sauvegardé dans bronze\n",
      "📁 Traitement: BTCUSDT-4h-2020-09.zip\n",
      "   📊 180 lignes | 2020-09-01 00:00:00 → 2020-09-30 20:00:00\n"
     ]
    },
    {
     "data": {
      "application/vnd.jupyter.widget-view+json": {
       "model_id": "53ed46a1b2704fd0961ae482f59d3c40",
       "version_major": 2,
       "version_minor": 0
      },
      "text/plain": [
       "FloatProgress(value=0.0, layout=Layout(width='auto'), style=ProgressStyle(bar_color='black'))"
      ]
     },
     "metadata": {},
     "output_type": "display_data"
    },
    {
     "name": "stdout",
     "output_type": "stream",
     "text": [
      "   ✅ Sauvegardé dans bronze\n",
      "📁 Traitement: BTCUSDT-4h-2020-10.zip\n",
      "   📊 186 lignes | 2020-10-01 00:00:00 → 2020-10-31 20:00:00\n"
     ]
    },
    {
     "data": {
      "application/vnd.jupyter.widget-view+json": {
       "model_id": "762f60511c69457ca5903393ef06dcfc",
       "version_major": 2,
       "version_minor": 0
      },
      "text/plain": [
       "FloatProgress(value=0.0, layout=Layout(width='auto'), style=ProgressStyle(bar_color='black'))"
      ]
     },
     "metadata": {},
     "output_type": "display_data"
    },
    {
     "name": "stdout",
     "output_type": "stream",
     "text": [
      "   ✅ Sauvegardé dans bronze\n",
      "📁 Traitement: BTCUSDT-4h-2020-11.zip\n",
      "   📊 180 lignes | 2020-11-01 00:00:00 → 2020-11-30 20:00:00\n"
     ]
    },
    {
     "data": {
      "application/vnd.jupyter.widget-view+json": {
       "model_id": "fb26c069e6f9452b85fd88db29755c25",
       "version_major": 2,
       "version_minor": 0
      },
      "text/plain": [
       "FloatProgress(value=0.0, layout=Layout(width='auto'), style=ProgressStyle(bar_color='black'))"
      ]
     },
     "metadata": {},
     "output_type": "display_data"
    },
    {
     "name": "stdout",
     "output_type": "stream",
     "text": [
      "   ✅ Sauvegardé dans bronze\n",
      "📁 Traitement: BTCUSDT-4h-2020-12.zip\n",
      "   📊 186 lignes | 2020-12-01 00:00:00 → 2020-12-31 20:00:00\n"
     ]
    },
    {
     "data": {
      "application/vnd.jupyter.widget-view+json": {
       "model_id": "2d208966f4684467bea5a612331f7687",
       "version_major": 2,
       "version_minor": 0
      },
      "text/plain": [
       "FloatProgress(value=0.0, layout=Layout(width='auto'), style=ProgressStyle(bar_color='black'))"
      ]
     },
     "metadata": {},
     "output_type": "display_data"
    },
    {
     "name": "stdout",
     "output_type": "stream",
     "text": [
      "   ✅ Sauvegardé dans bronze\n",
      "📁 Traitement: BTCUSDT-4h-2021-01.zip\n",
      "   📊 186 lignes | 2021-01-01 00:00:00 → 2021-01-31 20:00:00\n"
     ]
    },
    {
     "data": {
      "application/vnd.jupyter.widget-view+json": {
       "model_id": "bdef7e483c1a4fa9965172ef03175299",
       "version_major": 2,
       "version_minor": 0
      },
      "text/plain": [
       "FloatProgress(value=0.0, layout=Layout(width='auto'), style=ProgressStyle(bar_color='black'))"
      ]
     },
     "metadata": {},
     "output_type": "display_data"
    },
    {
     "name": "stdout",
     "output_type": "stream",
     "text": [
      "   ✅ Sauvegardé dans bronze\n",
      "📁 Traitement: BTCUSDT-4h-2021-02.zip\n",
      "   📊 168 lignes | 2021-02-01 00:00:00 → 2021-02-28 20:00:00\n"
     ]
    },
    {
     "data": {
      "application/vnd.jupyter.widget-view+json": {
       "model_id": "a466de8c94874beca6c1221a6b59dded",
       "version_major": 2,
       "version_minor": 0
      },
      "text/plain": [
       "FloatProgress(value=0.0, layout=Layout(width='auto'), style=ProgressStyle(bar_color='black'))"
      ]
     },
     "metadata": {},
     "output_type": "display_data"
    },
    {
     "name": "stdout",
     "output_type": "stream",
     "text": [
      "   ✅ Sauvegardé dans bronze\n",
      "📁 Traitement: BTCUSDT-4h-2021-03.zip\n",
      "   📊 186 lignes | 2021-03-01 00:00:00 → 2021-03-31 20:00:00\n"
     ]
    },
    {
     "data": {
      "application/vnd.jupyter.widget-view+json": {
       "model_id": "bbfff11c160a4dd79fac99f77b39d1b6",
       "version_major": 2,
       "version_minor": 0
      },
      "text/plain": [
       "FloatProgress(value=0.0, layout=Layout(width='auto'), style=ProgressStyle(bar_color='black'))"
      ]
     },
     "metadata": {},
     "output_type": "display_data"
    },
    {
     "name": "stdout",
     "output_type": "stream",
     "text": [
      "   ✅ Sauvegardé dans bronze\n",
      "📁 Traitement: BTCUSDT-4h-2021-04.zip\n",
      "   📊 180 lignes | 2021-04-01 00:00:00 → 2021-04-30 20:00:00\n"
     ]
    },
    {
     "data": {
      "application/vnd.jupyter.widget-view+json": {
       "model_id": "dd2f4d5b2c5348a4823596ffb4ad030d",
       "version_major": 2,
       "version_minor": 0
      },
      "text/plain": [
       "FloatProgress(value=0.0, layout=Layout(width='auto'), style=ProgressStyle(bar_color='black'))"
      ]
     },
     "metadata": {},
     "output_type": "display_data"
    },
    {
     "name": "stdout",
     "output_type": "stream",
     "text": [
      "   ✅ Sauvegardé dans bronze\n",
      "📁 Traitement: BTCUSDT-4h-2021-05.zip\n",
      "   📊 186 lignes | 2021-05-01 00:00:00 → 2021-05-31 20:00:00\n"
     ]
    },
    {
     "data": {
      "application/vnd.jupyter.widget-view+json": {
       "model_id": "26f0bb846852455b89228ede33328754",
       "version_major": 2,
       "version_minor": 0
      },
      "text/plain": [
       "FloatProgress(value=0.0, layout=Layout(width='auto'), style=ProgressStyle(bar_color='black'))"
      ]
     },
     "metadata": {},
     "output_type": "display_data"
    },
    {
     "name": "stdout",
     "output_type": "stream",
     "text": [
      "   ✅ Sauvegardé dans bronze\n",
      "📁 Traitement: BTCUSDT-4h-2021-06.zip\n",
      "   📊 180 lignes | 2021-06-01 00:00:00 → 2021-06-30 20:00:00\n"
     ]
    },
    {
     "data": {
      "application/vnd.jupyter.widget-view+json": {
       "model_id": "25a095e6216542adae980c4a156937fd",
       "version_major": 2,
       "version_minor": 0
      },
      "text/plain": [
       "FloatProgress(value=0.0, layout=Layout(width='auto'), style=ProgressStyle(bar_color='black'))"
      ]
     },
     "metadata": {},
     "output_type": "display_data"
    },
    {
     "name": "stdout",
     "output_type": "stream",
     "text": [
      "   ✅ Sauvegardé dans bronze\n",
      "📁 Traitement: BTCUSDT-4h-2021-07.zip\n",
      "   📊 186 lignes | 2021-07-01 00:00:00 → 2021-07-31 20:00:00\n"
     ]
    },
    {
     "data": {
      "application/vnd.jupyter.widget-view+json": {
       "model_id": "f0d4311a7fc64ec88cebfbe830cfb036",
       "version_major": 2,
       "version_minor": 0
      },
      "text/plain": [
       "FloatProgress(value=0.0, layout=Layout(width='auto'), style=ProgressStyle(bar_color='black'))"
      ]
     },
     "metadata": {},
     "output_type": "display_data"
    },
    {
     "name": "stdout",
     "output_type": "stream",
     "text": [
      "   ✅ Sauvegardé dans bronze\n",
      "📁 Traitement: BTCUSDT-4h-2021-08.zip\n",
      "   📊 186 lignes | 2021-08-01 00:00:00 → 2021-08-31 20:00:00\n"
     ]
    },
    {
     "data": {
      "application/vnd.jupyter.widget-view+json": {
       "model_id": "6b691759b8624fa0b347c3d7803e1792",
       "version_major": 2,
       "version_minor": 0
      },
      "text/plain": [
       "FloatProgress(value=0.0, layout=Layout(width='auto'), style=ProgressStyle(bar_color='black'))"
      ]
     },
     "metadata": {},
     "output_type": "display_data"
    },
    {
     "name": "stdout",
     "output_type": "stream",
     "text": [
      "   ✅ Sauvegardé dans bronze\n",
      "📁 Traitement: BTCUSDT-4h-2021-09.zip\n",
      "   📊 180 lignes | 2021-09-01 00:00:00 → 2021-09-30 20:00:00\n"
     ]
    },
    {
     "data": {
      "application/vnd.jupyter.widget-view+json": {
       "model_id": "75ece049ab0243598693553d30097d07",
       "version_major": 2,
       "version_minor": 0
      },
      "text/plain": [
       "FloatProgress(value=0.0, layout=Layout(width='auto'), style=ProgressStyle(bar_color='black'))"
      ]
     },
     "metadata": {},
     "output_type": "display_data"
    },
    {
     "name": "stdout",
     "output_type": "stream",
     "text": [
      "   ✅ Sauvegardé dans bronze\n",
      "📁 Traitement: BTCUSDT-4h-2021-10.zip\n",
      "   📊 186 lignes | 2021-10-01 00:00:00 → 2021-10-31 20:00:00\n"
     ]
    },
    {
     "data": {
      "application/vnd.jupyter.widget-view+json": {
       "model_id": "1c288089bc0b481cb2d6b86757d48213",
       "version_major": 2,
       "version_minor": 0
      },
      "text/plain": [
       "FloatProgress(value=0.0, layout=Layout(width='auto'), style=ProgressStyle(bar_color='black'))"
      ]
     },
     "metadata": {},
     "output_type": "display_data"
    },
    {
     "name": "stdout",
     "output_type": "stream",
     "text": [
      "   ✅ Sauvegardé dans bronze\n",
      "📁 Traitement: BTCUSDT-4h-2021-11.zip\n",
      "   📊 180 lignes | 2021-11-01 00:00:00 → 2021-11-30 20:00:00\n"
     ]
    },
    {
     "data": {
      "application/vnd.jupyter.widget-view+json": {
       "model_id": "d25d57070b314e1f85faca2ab0dcc23b",
       "version_major": 2,
       "version_minor": 0
      },
      "text/plain": [
       "FloatProgress(value=0.0, layout=Layout(width='auto'), style=ProgressStyle(bar_color='black'))"
      ]
     },
     "metadata": {},
     "output_type": "display_data"
    },
    {
     "name": "stdout",
     "output_type": "stream",
     "text": [
      "   ✅ Sauvegardé dans bronze\n",
      "📁 Traitement: BTCUSDT-4h-2021-12.zip\n",
      "   📊 186 lignes | 2021-12-01 00:00:00 → 2021-12-31 20:00:00\n"
     ]
    },
    {
     "data": {
      "application/vnd.jupyter.widget-view+json": {
       "model_id": "804a1c896ff44e2c97088c37bc92a337",
       "version_major": 2,
       "version_minor": 0
      },
      "text/plain": [
       "FloatProgress(value=0.0, layout=Layout(width='auto'), style=ProgressStyle(bar_color='black'))"
      ]
     },
     "metadata": {},
     "output_type": "display_data"
    },
    {
     "name": "stdout",
     "output_type": "stream",
     "text": [
      "   ✅ Sauvegardé dans bronze\n",
      "📁 Traitement: BTCUSDT-4h-2022-01.zip\n",
      "   📊 186 lignes | 2022-01-01 00:00:00 → 2022-01-31 20:00:00\n"
     ]
    },
    {
     "data": {
      "application/vnd.jupyter.widget-view+json": {
       "model_id": "07c530d2daba440d807cab97accb5bac",
       "version_major": 2,
       "version_minor": 0
      },
      "text/plain": [
       "FloatProgress(value=0.0, layout=Layout(width='auto'), style=ProgressStyle(bar_color='black'))"
      ]
     },
     "metadata": {},
     "output_type": "display_data"
    },
    {
     "name": "stdout",
     "output_type": "stream",
     "text": [
      "   ✅ Sauvegardé dans bronze\n",
      "📁 Traitement: BTCUSDT-4h-2022-02.zip\n",
      "   📊 168 lignes | 2022-02-01 00:00:00 → 2022-02-28 20:00:00\n"
     ]
    },
    {
     "data": {
      "application/vnd.jupyter.widget-view+json": {
       "model_id": "13e776ec894243498eea1ec92e001948",
       "version_major": 2,
       "version_minor": 0
      },
      "text/plain": [
       "FloatProgress(value=0.0, layout=Layout(width='auto'), style=ProgressStyle(bar_color='black'))"
      ]
     },
     "metadata": {},
     "output_type": "display_data"
    },
    {
     "name": "stdout",
     "output_type": "stream",
     "text": [
      "   ✅ Sauvegardé dans bronze\n",
      "📁 Traitement: BTCUSDT-4h-2022-03.zip\n",
      "   📊 186 lignes | 2022-03-01 00:00:00 → 2022-03-31 20:00:00\n"
     ]
    },
    {
     "data": {
      "application/vnd.jupyter.widget-view+json": {
       "model_id": "5c698367b3de43d0801408d29b7cd95c",
       "version_major": 2,
       "version_minor": 0
      },
      "text/plain": [
       "FloatProgress(value=0.0, layout=Layout(width='auto'), style=ProgressStyle(bar_color='black'))"
      ]
     },
     "metadata": {},
     "output_type": "display_data"
    },
    {
     "name": "stdout",
     "output_type": "stream",
     "text": [
      "   ✅ Sauvegardé dans bronze\n",
      "📁 Traitement: BTCUSDT-4h-2022-04.zip\n",
      "   📊 180 lignes | 2022-04-01 00:00:00 → 2022-04-30 20:00:00\n"
     ]
    },
    {
     "data": {
      "application/vnd.jupyter.widget-view+json": {
       "model_id": "c4174c11b37e416db3f59f2f8e324905",
       "version_major": 2,
       "version_minor": 0
      },
      "text/plain": [
       "FloatProgress(value=0.0, layout=Layout(width='auto'), style=ProgressStyle(bar_color='black'))"
      ]
     },
     "metadata": {},
     "output_type": "display_data"
    },
    {
     "name": "stdout",
     "output_type": "stream",
     "text": [
      "   ✅ Sauvegardé dans bronze\n",
      "📁 Traitement: BTCUSDT-4h-2022-05.zip\n",
      "   📊 186 lignes | 2022-05-01 00:00:00 → 2022-05-31 20:00:00\n"
     ]
    },
    {
     "data": {
      "application/vnd.jupyter.widget-view+json": {
       "model_id": "3a4ab942045e4169a9252e5897778b4f",
       "version_major": 2,
       "version_minor": 0
      },
      "text/plain": [
       "FloatProgress(value=0.0, layout=Layout(width='auto'), style=ProgressStyle(bar_color='black'))"
      ]
     },
     "metadata": {},
     "output_type": "display_data"
    },
    {
     "name": "stdout",
     "output_type": "stream",
     "text": [
      "   ✅ Sauvegardé dans bronze\n",
      "📁 Traitement: BTCUSDT-4h-2022-06.zip\n",
      "   📊 180 lignes | 2022-06-01 00:00:00 → 2022-06-30 20:00:00\n"
     ]
    },
    {
     "data": {
      "application/vnd.jupyter.widget-view+json": {
       "model_id": "e767f11d76354d4893a163c9d106758b",
       "version_major": 2,
       "version_minor": 0
      },
      "text/plain": [
       "FloatProgress(value=0.0, layout=Layout(width='auto'), style=ProgressStyle(bar_color='black'))"
      ]
     },
     "metadata": {},
     "output_type": "display_data"
    },
    {
     "name": "stdout",
     "output_type": "stream",
     "text": [
      "   ✅ Sauvegardé dans bronze\n",
      "📁 Traitement: BTCUSDT-4h-2022-07.zip\n",
      "   📊 186 lignes | 2022-07-01 00:00:00 → 2022-07-31 20:00:00\n"
     ]
    },
    {
     "data": {
      "application/vnd.jupyter.widget-view+json": {
       "model_id": "1feda4c7cbb44980af0a62cba62f749b",
       "version_major": 2,
       "version_minor": 0
      },
      "text/plain": [
       "FloatProgress(value=0.0, layout=Layout(width='auto'), style=ProgressStyle(bar_color='black'))"
      ]
     },
     "metadata": {},
     "output_type": "display_data"
    },
    {
     "name": "stdout",
     "output_type": "stream",
     "text": [
      "   ✅ Sauvegardé dans bronze\n",
      "📁 Traitement: BTCUSDT-4h-2022-08.zip\n",
      "   📊 186 lignes | 2022-08-01 00:00:00 → 2022-08-31 20:00:00\n"
     ]
    },
    {
     "data": {
      "application/vnd.jupyter.widget-view+json": {
       "model_id": "ba816659b4a34d03aca104e3c2c8a71d",
       "version_major": 2,
       "version_minor": 0
      },
      "text/plain": [
       "FloatProgress(value=0.0, layout=Layout(width='auto'), style=ProgressStyle(bar_color='black'))"
      ]
     },
     "metadata": {},
     "output_type": "display_data"
    },
    {
     "name": "stdout",
     "output_type": "stream",
     "text": [
      "   ✅ Sauvegardé dans bronze\n",
      "📁 Traitement: BTCUSDT-4h-2022-09.zip\n",
      "   📊 180 lignes | 2022-09-01 00:00:00 → 2022-09-30 20:00:00\n"
     ]
    },
    {
     "data": {
      "application/vnd.jupyter.widget-view+json": {
       "model_id": "bf90dda640aa479ea12952162b987949",
       "version_major": 2,
       "version_minor": 0
      },
      "text/plain": [
       "FloatProgress(value=0.0, layout=Layout(width='auto'), style=ProgressStyle(bar_color='black'))"
      ]
     },
     "metadata": {},
     "output_type": "display_data"
    },
    {
     "name": "stdout",
     "output_type": "stream",
     "text": [
      "   ✅ Sauvegardé dans bronze\n",
      "📁 Traitement: BTCUSDT-4h-2022-10.zip\n",
      "   📊 186 lignes | 2022-10-01 00:00:00 → 2022-10-31 20:00:00\n"
     ]
    },
    {
     "data": {
      "application/vnd.jupyter.widget-view+json": {
       "model_id": "7e52736810494b12915388d799642c26",
       "version_major": 2,
       "version_minor": 0
      },
      "text/plain": [
       "FloatProgress(value=0.0, layout=Layout(width='auto'), style=ProgressStyle(bar_color='black'))"
      ]
     },
     "metadata": {},
     "output_type": "display_data"
    },
    {
     "name": "stdout",
     "output_type": "stream",
     "text": [
      "   ✅ Sauvegardé dans bronze\n",
      "📁 Traitement: BTCUSDT-4h-2022-11.zip\n",
      "   📊 180 lignes | 2022-11-01 00:00:00 → 2022-11-30 20:00:00\n"
     ]
    },
    {
     "data": {
      "application/vnd.jupyter.widget-view+json": {
       "model_id": "9dc3c6a824994607b8709710505d1375",
       "version_major": 2,
       "version_minor": 0
      },
      "text/plain": [
       "FloatProgress(value=0.0, layout=Layout(width='auto'), style=ProgressStyle(bar_color='black'))"
      ]
     },
     "metadata": {},
     "output_type": "display_data"
    },
    {
     "name": "stdout",
     "output_type": "stream",
     "text": [
      "   ✅ Sauvegardé dans bronze\n",
      "📁 Traitement: BTCUSDT-4h-2022-12.zip\n",
      "   📊 186 lignes | 2022-12-01 00:00:00 → 2022-12-31 20:00:00\n"
     ]
    },
    {
     "data": {
      "application/vnd.jupyter.widget-view+json": {
       "model_id": "bff9e47bef384d8eaf06729488ed2c4a",
       "version_major": 2,
       "version_minor": 0
      },
      "text/plain": [
       "FloatProgress(value=0.0, layout=Layout(width='auto'), style=ProgressStyle(bar_color='black'))"
      ]
     },
     "metadata": {},
     "output_type": "display_data"
    },
    {
     "name": "stdout",
     "output_type": "stream",
     "text": [
      "   ✅ Sauvegardé dans bronze\n",
      "📁 Traitement: BTCUSDT-4h-2023-01.zip\n",
      "   📊 186 lignes | 2023-01-01 00:00:00 → 2023-01-31 20:00:00\n"
     ]
    },
    {
     "data": {
      "application/vnd.jupyter.widget-view+json": {
       "model_id": "5630504a4fc541929c7b218566e39e65",
       "version_major": 2,
       "version_minor": 0
      },
      "text/plain": [
       "FloatProgress(value=0.0, layout=Layout(width='auto'), style=ProgressStyle(bar_color='black'))"
      ]
     },
     "metadata": {},
     "output_type": "display_data"
    },
    {
     "name": "stdout",
     "output_type": "stream",
     "text": [
      "   ✅ Sauvegardé dans bronze\n",
      "📁 Traitement: BTCUSDT-4h-2023-02.zip\n",
      "   📊 168 lignes | 2023-02-01 00:00:00 → 2023-02-28 20:00:00\n"
     ]
    },
    {
     "data": {
      "application/vnd.jupyter.widget-view+json": {
       "model_id": "e84a2ee93bfd48d28a955d9f5dbc6d78",
       "version_major": 2,
       "version_minor": 0
      },
      "text/plain": [
       "FloatProgress(value=0.0, layout=Layout(width='auto'), style=ProgressStyle(bar_color='black'))"
      ]
     },
     "metadata": {},
     "output_type": "display_data"
    },
    {
     "name": "stdout",
     "output_type": "stream",
     "text": [
      "   ✅ Sauvegardé dans bronze\n",
      "📁 Traitement: BTCUSDT-4h-2023-03.zip\n",
      "   📊 186 lignes | 2023-03-01 00:00:00 → 2023-03-31 20:00:00\n"
     ]
    },
    {
     "data": {
      "application/vnd.jupyter.widget-view+json": {
       "model_id": "60ae521e939c4bd29444066e4bbfa5d4",
       "version_major": 2,
       "version_minor": 0
      },
      "text/plain": [
       "FloatProgress(value=0.0, layout=Layout(width='auto'), style=ProgressStyle(bar_color='black'))"
      ]
     },
     "metadata": {},
     "output_type": "display_data"
    },
    {
     "name": "stdout",
     "output_type": "stream",
     "text": [
      "   ✅ Sauvegardé dans bronze\n",
      "📁 Traitement: BTCUSDT-4h-2023-04.zip\n",
      "   📊 180 lignes | 2023-04-01 00:00:00 → 2023-04-30 20:00:00\n"
     ]
    },
    {
     "data": {
      "application/vnd.jupyter.widget-view+json": {
       "model_id": "753bdb3e3816460bb3e69b4674187190",
       "version_major": 2,
       "version_minor": 0
      },
      "text/plain": [
       "FloatProgress(value=0.0, layout=Layout(width='auto'), style=ProgressStyle(bar_color='black'))"
      ]
     },
     "metadata": {},
     "output_type": "display_data"
    },
    {
     "name": "stdout",
     "output_type": "stream",
     "text": [
      "   ✅ Sauvegardé dans bronze\n",
      "📁 Traitement: BTCUSDT-4h-2023-05.zip\n",
      "   📊 186 lignes | 2023-05-01 00:00:00 → 2023-05-31 20:00:00\n"
     ]
    },
    {
     "data": {
      "application/vnd.jupyter.widget-view+json": {
       "model_id": "c3f8c2d343144c6caa582fc60895147b",
       "version_major": 2,
       "version_minor": 0
      },
      "text/plain": [
       "FloatProgress(value=0.0, layout=Layout(width='auto'), style=ProgressStyle(bar_color='black'))"
      ]
     },
     "metadata": {},
     "output_type": "display_data"
    },
    {
     "name": "stdout",
     "output_type": "stream",
     "text": [
      "   ✅ Sauvegardé dans bronze\n",
      "📁 Traitement: BTCUSDT-4h-2023-06.zip\n",
      "   📊 180 lignes | 2023-06-01 00:00:00 → 2023-06-30 20:00:00\n"
     ]
    },
    {
     "data": {
      "application/vnd.jupyter.widget-view+json": {
       "model_id": "49422f43b2a54669afcbb1571fc8c1af",
       "version_major": 2,
       "version_minor": 0
      },
      "text/plain": [
       "FloatProgress(value=0.0, layout=Layout(width='auto'), style=ProgressStyle(bar_color='black'))"
      ]
     },
     "metadata": {},
     "output_type": "display_data"
    },
    {
     "name": "stdout",
     "output_type": "stream",
     "text": [
      "   ✅ Sauvegardé dans bronze\n",
      "📁 Traitement: BTCUSDT-4h-2023-07.zip\n",
      "   📊 186 lignes | 2023-07-01 00:00:00 → 2023-07-31 20:00:00\n"
     ]
    },
    {
     "data": {
      "application/vnd.jupyter.widget-view+json": {
       "model_id": "76bc275909f3494ca8aa156f4afa0540",
       "version_major": 2,
       "version_minor": 0
      },
      "text/plain": [
       "FloatProgress(value=0.0, layout=Layout(width='auto'), style=ProgressStyle(bar_color='black'))"
      ]
     },
     "metadata": {},
     "output_type": "display_data"
    },
    {
     "name": "stdout",
     "output_type": "stream",
     "text": [
      "   ✅ Sauvegardé dans bronze\n",
      "📁 Traitement: BTCUSDT-4h-2023-08.zip\n",
      "   📊 186 lignes | 2023-08-01 00:00:00 → 2023-08-31 20:00:00\n"
     ]
    },
    {
     "data": {
      "application/vnd.jupyter.widget-view+json": {
       "model_id": "2bb49933ee8a46c4af53c85dcdfae385",
       "version_major": 2,
       "version_minor": 0
      },
      "text/plain": [
       "FloatProgress(value=0.0, layout=Layout(width='auto'), style=ProgressStyle(bar_color='black'))"
      ]
     },
     "metadata": {},
     "output_type": "display_data"
    },
    {
     "name": "stdout",
     "output_type": "stream",
     "text": [
      "   ✅ Sauvegardé dans bronze\n",
      "📁 Traitement: BTCUSDT-4h-2023-09.zip\n",
      "   📊 180 lignes | 2023-09-01 00:00:00 → 2023-09-30 20:00:00\n"
     ]
    },
    {
     "data": {
      "application/vnd.jupyter.widget-view+json": {
       "model_id": "1659638e909e403d82a96a588fac846d",
       "version_major": 2,
       "version_minor": 0
      },
      "text/plain": [
       "FloatProgress(value=0.0, layout=Layout(width='auto'), style=ProgressStyle(bar_color='black'))"
      ]
     },
     "metadata": {},
     "output_type": "display_data"
    },
    {
     "name": "stdout",
     "output_type": "stream",
     "text": [
      "   ✅ Sauvegardé dans bronze\n",
      "📁 Traitement: BTCUSDT-4h-2023-10.zip\n",
      "   📊 186 lignes | 2023-10-01 00:00:00 → 2023-10-31 20:00:00\n"
     ]
    },
    {
     "data": {
      "application/vnd.jupyter.widget-view+json": {
       "model_id": "a3cb9b59087b405987ab3cc3152e2340",
       "version_major": 2,
       "version_minor": 0
      },
      "text/plain": [
       "FloatProgress(value=0.0, layout=Layout(width='auto'), style=ProgressStyle(bar_color='black'))"
      ]
     },
     "metadata": {},
     "output_type": "display_data"
    },
    {
     "name": "stdout",
     "output_type": "stream",
     "text": [
      "   ✅ Sauvegardé dans bronze\n",
      "📁 Traitement: BTCUSDT-4h-2023-11.zip\n",
      "   📊 180 lignes | 2023-11-01 00:00:00 → 2023-11-30 20:00:00\n"
     ]
    },
    {
     "data": {
      "application/vnd.jupyter.widget-view+json": {
       "model_id": "effde1ed0c3543aca799a4c766de86ca",
       "version_major": 2,
       "version_minor": 0
      },
      "text/plain": [
       "FloatProgress(value=0.0, layout=Layout(width='auto'), style=ProgressStyle(bar_color='black'))"
      ]
     },
     "metadata": {},
     "output_type": "display_data"
    },
    {
     "name": "stdout",
     "output_type": "stream",
     "text": [
      "   ✅ Sauvegardé dans bronze\n",
      "📁 Traitement: BTCUSDT-4h-2023-12.zip\n",
      "   📊 186 lignes | 2023-12-01 00:00:00 → 2023-12-31 20:00:00\n"
     ]
    },
    {
     "data": {
      "application/vnd.jupyter.widget-view+json": {
       "model_id": "e6d638a34b5540df874d54c3fe25eca4",
       "version_major": 2,
       "version_minor": 0
      },
      "text/plain": [
       "FloatProgress(value=0.0, layout=Layout(width='auto'), style=ProgressStyle(bar_color='black'))"
      ]
     },
     "metadata": {},
     "output_type": "display_data"
    },
    {
     "name": "stdout",
     "output_type": "stream",
     "text": [
      "   ✅ Sauvegardé dans bronze\n",
      "📁 Traitement: BTCUSDT-4h-2024-01.zip\n",
      "   📊 186 lignes | 2024-01-01 00:00:00 → 2024-01-31 20:00:00\n"
     ]
    },
    {
     "data": {
      "application/vnd.jupyter.widget-view+json": {
       "model_id": "4de9dd2aa46948b69ceed92c4536c9c9",
       "version_major": 2,
       "version_minor": 0
      },
      "text/plain": [
       "FloatProgress(value=0.0, layout=Layout(width='auto'), style=ProgressStyle(bar_color='black'))"
      ]
     },
     "metadata": {},
     "output_type": "display_data"
    },
    {
     "name": "stdout",
     "output_type": "stream",
     "text": [
      "   ✅ Sauvegardé dans bronze\n",
      "📁 Traitement: BTCUSDT-4h-2024-02.zip\n",
      "   📊 174 lignes | 2024-02-01 00:00:00 → 2024-02-29 20:00:00\n"
     ]
    },
    {
     "data": {
      "application/vnd.jupyter.widget-view+json": {
       "model_id": "37cf08a0f70d4134992f696d66a71731",
       "version_major": 2,
       "version_minor": 0
      },
      "text/plain": [
       "FloatProgress(value=0.0, layout=Layout(width='auto'), style=ProgressStyle(bar_color='black'))"
      ]
     },
     "metadata": {},
     "output_type": "display_data"
    },
    {
     "name": "stdout",
     "output_type": "stream",
     "text": [
      "   ✅ Sauvegardé dans bronze\n",
      "📁 Traitement: BTCUSDT-4h-2024-03.zip\n",
      "   📊 186 lignes | 2024-03-01 00:00:00 → 2024-03-31 20:00:00\n"
     ]
    },
    {
     "data": {
      "application/vnd.jupyter.widget-view+json": {
       "model_id": "229d4339232a4b4b9c698d8385242780",
       "version_major": 2,
       "version_minor": 0
      },
      "text/plain": [
       "FloatProgress(value=0.0, layout=Layout(width='auto'), style=ProgressStyle(bar_color='black'))"
      ]
     },
     "metadata": {},
     "output_type": "display_data"
    },
    {
     "name": "stdout",
     "output_type": "stream",
     "text": [
      "   ✅ Sauvegardé dans bronze\n",
      "📁 Traitement: BTCUSDT-4h-2024-04.zip\n",
      "   📊 180 lignes | 2024-04-01 00:00:00 → 2024-04-30 20:00:00\n"
     ]
    },
    {
     "data": {
      "application/vnd.jupyter.widget-view+json": {
       "model_id": "dcf5f2a9d91949f09d88cbb1961c822b",
       "version_major": 2,
       "version_minor": 0
      },
      "text/plain": [
       "FloatProgress(value=0.0, layout=Layout(width='auto'), style=ProgressStyle(bar_color='black'))"
      ]
     },
     "metadata": {},
     "output_type": "display_data"
    },
    {
     "name": "stdout",
     "output_type": "stream",
     "text": [
      "   ✅ Sauvegardé dans bronze\n",
      "📁 Traitement: BTCUSDT-4h-2024-05.zip\n",
      "   📊 186 lignes | 2024-05-01 00:00:00 → 2024-05-31 20:00:00\n"
     ]
    },
    {
     "data": {
      "application/vnd.jupyter.widget-view+json": {
       "model_id": "a5b3c5c2dc8b46b48308a690e9392c3b",
       "version_major": 2,
       "version_minor": 0
      },
      "text/plain": [
       "FloatProgress(value=0.0, layout=Layout(width='auto'), style=ProgressStyle(bar_color='black'))"
      ]
     },
     "metadata": {},
     "output_type": "display_data"
    },
    {
     "name": "stdout",
     "output_type": "stream",
     "text": [
      "   ✅ Sauvegardé dans bronze\n",
      "📁 Traitement: BTCUSDT-4h-2024-06.zip\n",
      "   📊 180 lignes | 2024-06-01 00:00:00 → 2024-06-30 20:00:00\n"
     ]
    },
    {
     "data": {
      "application/vnd.jupyter.widget-view+json": {
       "model_id": "d543083bab984a5eb8715e74c3991b0c",
       "version_major": 2,
       "version_minor": 0
      },
      "text/plain": [
       "FloatProgress(value=0.0, layout=Layout(width='auto'), style=ProgressStyle(bar_color='black'))"
      ]
     },
     "metadata": {},
     "output_type": "display_data"
    },
    {
     "name": "stdout",
     "output_type": "stream",
     "text": [
      "   ✅ Sauvegardé dans bronze\n",
      "📁 Traitement: BTCUSDT-4h-2024-07.zip\n",
      "   📊 186 lignes | 2024-07-01 00:00:00 → 2024-07-31 20:00:00\n"
     ]
    },
    {
     "data": {
      "application/vnd.jupyter.widget-view+json": {
       "model_id": "073ecafb6a2242f28f47bea7cb0da1e3",
       "version_major": 2,
       "version_minor": 0
      },
      "text/plain": [
       "FloatProgress(value=0.0, layout=Layout(width='auto'), style=ProgressStyle(bar_color='black'))"
      ]
     },
     "metadata": {},
     "output_type": "display_data"
    },
    {
     "name": "stdout",
     "output_type": "stream",
     "text": [
      "   ✅ Sauvegardé dans bronze\n",
      "📁 Traitement: BTCUSDT-4h-2024-08.zip\n",
      "   📊 186 lignes | 2024-08-01 00:00:00 → 2024-08-31 20:00:00\n"
     ]
    },
    {
     "data": {
      "application/vnd.jupyter.widget-view+json": {
       "model_id": "e99dbf4533954a0b80dec1cad008a739",
       "version_major": 2,
       "version_minor": 0
      },
      "text/plain": [
       "FloatProgress(value=0.0, layout=Layout(width='auto'), style=ProgressStyle(bar_color='black'))"
      ]
     },
     "metadata": {},
     "output_type": "display_data"
    },
    {
     "name": "stdout",
     "output_type": "stream",
     "text": [
      "   ✅ Sauvegardé dans bronze\n",
      "📁 Traitement: BTCUSDT-4h-2024-09.zip\n",
      "   📊 180 lignes | 2024-09-01 00:00:00 → 2024-09-30 20:00:00\n"
     ]
    },
    {
     "data": {
      "application/vnd.jupyter.widget-view+json": {
       "model_id": "ab0bc3c095a542beadf21a4fef9a748a",
       "version_major": 2,
       "version_minor": 0
      },
      "text/plain": [
       "FloatProgress(value=0.0, layout=Layout(width='auto'), style=ProgressStyle(bar_color='black'))"
      ]
     },
     "metadata": {},
     "output_type": "display_data"
    },
    {
     "name": "stdout",
     "output_type": "stream",
     "text": [
      "   ✅ Sauvegardé dans bronze\n",
      "📁 Traitement: BTCUSDT-4h-2024-10.zip\n",
      "   📊 186 lignes | 2024-10-01 00:00:00 → 2024-10-31 20:00:00\n"
     ]
    },
    {
     "data": {
      "application/vnd.jupyter.widget-view+json": {
       "model_id": "871b995f7d7542b29f4c2ec68669d890",
       "version_major": 2,
       "version_minor": 0
      },
      "text/plain": [
       "FloatProgress(value=0.0, layout=Layout(width='auto'), style=ProgressStyle(bar_color='black'))"
      ]
     },
     "metadata": {},
     "output_type": "display_data"
    },
    {
     "name": "stdout",
     "output_type": "stream",
     "text": [
      "   ✅ Sauvegardé dans bronze\n",
      "📁 Traitement: BTCUSDT-4h-2024-11.zip\n",
      "   📊 180 lignes | 2024-11-01 00:00:00 → 2024-11-30 20:00:00\n"
     ]
    },
    {
     "data": {
      "application/vnd.jupyter.widget-view+json": {
       "model_id": "679158296a1847ffa6c1996b2e3bc756",
       "version_major": 2,
       "version_minor": 0
      },
      "text/plain": [
       "FloatProgress(value=0.0, layout=Layout(width='auto'), style=ProgressStyle(bar_color='black'))"
      ]
     },
     "metadata": {},
     "output_type": "display_data"
    },
    {
     "name": "stdout",
     "output_type": "stream",
     "text": [
      "   ✅ Sauvegardé dans bronze\n",
      "📁 Traitement: BTCUSDT-4h-2024-12.zip\n",
      "   📊 186 lignes | 2024-12-01 00:00:00 → 2024-12-31 20:00:00\n"
     ]
    },
    {
     "data": {
      "application/vnd.jupyter.widget-view+json": {
       "model_id": "369131363a8d46caa648063014d91655",
       "version_major": 2,
       "version_minor": 0
      },
      "text/plain": [
       "FloatProgress(value=0.0, layout=Layout(width='auto'), style=ProgressStyle(bar_color='black'))"
      ]
     },
     "metadata": {},
     "output_type": "display_data"
    },
    {
     "name": "stdout",
     "output_type": "stream",
     "text": [
      "   ✅ Sauvegardé dans bronze\n",
      "📁 Traitement: BTCUSDT-4h-2025-01.zip\n",
      "   📊 186 lignes | 2025-01-01 00:00:00 → 2025-01-31 20:00:00\n"
     ]
    },
    {
     "data": {
      "application/vnd.jupyter.widget-view+json": {
       "model_id": "420ce5326739488190d3594d8f60bc1d",
       "version_major": 2,
       "version_minor": 0
      },
      "text/plain": [
       "FloatProgress(value=0.0, layout=Layout(width='auto'), style=ProgressStyle(bar_color='black'))"
      ]
     },
     "metadata": {},
     "output_type": "display_data"
    },
    {
     "name": "stdout",
     "output_type": "stream",
     "text": [
      "   ✅ Sauvegardé dans bronze\n",
      "📁 Traitement: BTCUSDT-4h-2025-02.zip\n",
      "   📊 168 lignes | 2025-02-01 00:00:00 → 2025-02-28 20:00:00\n"
     ]
    },
    {
     "data": {
      "application/vnd.jupyter.widget-view+json": {
       "model_id": "15eddad116694d74a9d93c01608b20fb",
       "version_major": 2,
       "version_minor": 0
      },
      "text/plain": [
       "FloatProgress(value=0.0, layout=Layout(width='auto'), style=ProgressStyle(bar_color='black'))"
      ]
     },
     "metadata": {},
     "output_type": "display_data"
    },
    {
     "name": "stdout",
     "output_type": "stream",
     "text": [
      "   ✅ Sauvegardé dans bronze\n",
      "📁 Traitement: BTCUSDT-4h-2025-03.zip\n",
      "   📊 186 lignes | 2025-03-01 00:00:00 → 2025-03-31 20:00:00\n"
     ]
    },
    {
     "data": {
      "application/vnd.jupyter.widget-view+json": {
       "model_id": "ac71bae80b56414189a550a9be43cf2e",
       "version_major": 2,
       "version_minor": 0
      },
      "text/plain": [
       "FloatProgress(value=0.0, layout=Layout(width='auto'), style=ProgressStyle(bar_color='black'))"
      ]
     },
     "metadata": {},
     "output_type": "display_data"
    },
    {
     "name": "stdout",
     "output_type": "stream",
     "text": [
      "   ✅ Sauvegardé dans bronze\n",
      "📁 Traitement: BTCUSDT-4h-2025-04.zip\n",
      "   📊 180 lignes | 2025-04-01 00:00:00 → 2025-04-30 20:00:00\n"
     ]
    },
    {
     "data": {
      "application/vnd.jupyter.widget-view+json": {
       "model_id": "0406e7ad35ca4fa1a85709c89d046bd8",
       "version_major": 2,
       "version_minor": 0
      },
      "text/plain": [
       "FloatProgress(value=0.0, layout=Layout(width='auto'), style=ProgressStyle(bar_color='black'))"
      ]
     },
     "metadata": {},
     "output_type": "display_data"
    },
    {
     "name": "stdout",
     "output_type": "stream",
     "text": [
      "   ✅ Sauvegardé dans bronze\n",
      "📁 Traitement: BTCUSDT-4h-2025-05.zip\n",
      "   📊 186 lignes | 2025-05-01 00:00:00 → 2025-05-31 20:00:00\n"
     ]
    },
    {
     "data": {
      "application/vnd.jupyter.widget-view+json": {
       "model_id": "5cd1c765c11f4a23b4f3e3717a983e57",
       "version_major": 2,
       "version_minor": 0
      },
      "text/plain": [
       "FloatProgress(value=0.0, layout=Layout(width='auto'), style=ProgressStyle(bar_color='black'))"
      ]
     },
     "metadata": {},
     "output_type": "display_data"
    },
    {
     "name": "stdout",
     "output_type": "stream",
     "text": [
      "   ✅ Sauvegardé dans bronze\n",
      "📁 Traitement: BTCUSDT-4h-2025-06.zip\n",
      "   📊 180 lignes | 2025-06-01 00:00:00 → 2025-06-30 20:00:00\n"
     ]
    },
    {
     "data": {
      "application/vnd.jupyter.widget-view+json": {
       "model_id": "9d1b612f7da94a90ad8a06c912430dae",
       "version_major": 2,
       "version_minor": 0
      },
      "text/plain": [
       "FloatProgress(value=0.0, layout=Layout(width='auto'), style=ProgressStyle(bar_color='black'))"
      ]
     },
     "metadata": {},
     "output_type": "display_data"
    },
    {
     "name": "stdout",
     "output_type": "stream",
     "text": [
      "   ✅ Sauvegardé dans bronze\n",
      "📁 Traitement: BTCUSDT-4h-2025-07.zip\n",
      "   📊 186 lignes | 2025-07-01 00:00:00 → 2025-07-31 20:00:00\n"
     ]
    },
    {
     "data": {
      "application/vnd.jupyter.widget-view+json": {
       "model_id": "2c60657999c84f3aabdda05b9100646f",
       "version_major": 2,
       "version_minor": 0
      },
      "text/plain": [
       "FloatProgress(value=0.0, layout=Layout(width='auto'), style=ProgressStyle(bar_color='black'))"
      ]
     },
     "metadata": {},
     "output_type": "display_data"
    },
    {
     "name": "stdout",
     "output_type": "stream",
     "text": [
      "   ✅ Sauvegardé dans bronze\n",
      "📁 Traitement: BTCUSDT-4h-2025-08.zip\n",
      "   📊 186 lignes | 2025-08-01 00:00:00 → 2025-08-31 20:00:00\n"
     ]
    },
    {
     "data": {
      "application/vnd.jupyter.widget-view+json": {
       "model_id": "dede9519a86f472b8a31a8875a9f3780",
       "version_major": 2,
       "version_minor": 0
      },
      "text/plain": [
       "FloatProgress(value=0.0, layout=Layout(width='auto'), style=ProgressStyle(bar_color='black'))"
      ]
     },
     "metadata": {},
     "output_type": "display_data"
    },
    {
     "name": "stdout",
     "output_type": "stream",
     "text": [
      "   ✅ Sauvegardé dans bronze\n",
      "\n",
      "==================================================\n",
      "✅ Fichiers traités: 97\n",
      "❌ Erreurs: 0\n"
     ]
    }
   ],
   "source": [
    "# Version corrigée avec gestion de l'écrasement\n",
    "import zipfile\n",
    "import datetime\n",
    "import os\n",
    "from pathlib import Path\n",
    "import duckdb\n",
    "import polars as pl\n",
    "\n",
    "class BinanceDataProcessorV2:\n",
    "    \"\"\"Version corrigée avec option OVERWRITE_OR_IGNORE\"\"\"\n",
    "    \n",
    "    def __init__(self, config: dict):\n",
    "        self.config = config\n",
    "        self.csv_columns = [\n",
    "            \"open_time\", \"open\", \"high\", \"low\", \"close\", \"volume\", \"close_time\",\n",
    "            \"quote_asset_volume\", \"number_of_trades\", \"taker_buy_base_volume\",\n",
    "            \"taker_buy_quote_volume\", \"ignore\"\n",
    "        ]\n",
    "        self.errors = []\n",
    "        self.processed_files = 0\n",
    "    \n",
    "    def setup_duckdb_connection(self):\n",
    "        \"\"\"Configure la connexion DuckDB avec les paramètres S3\"\"\"\n",
    "        con = duckdb.connect(database=\":memory:\")\n",
    "        con.execute(f\"\"\"\n",
    "            SET s3_access_key_id='{self.config[\"minio_access_key\"]}';\n",
    "            SET s3_secret_access_key='{self.config[\"minio_secret_key\"]}';\n",
    "            SET s3_endpoint='{self.config[\"minio_endpoint\"]}';\n",
    "            SET s3_url_style='path';\n",
    "            SET s3_use_ssl='false';\n",
    "        \"\"\")\n",
    "        return con\n",
    "    \n",
    "    def process_file(self, zip_path: Path, con: duckdb.DuckDBPyConnection, output_path: str):\n",
    "        \"\"\"Traite un seul fichier de bout en bout\"\"\"\n",
    "        try:\n",
    "            print(f\"📁 Traitement: {zip_path.name}\")\n",
    "            \n",
    "            # 1. Lecture du ZIP\n",
    "            with zipfile.ZipFile(str(zip_path)) as z:\n",
    "                csv_candidates = [n for n in z.namelist() if n.lower().endswith('.csv')]\n",
    "                csv_name = csv_candidates[0]\n",
    "                with z.open(csv_name) as f:\n",
    "                    df = pl.read_csv(f, has_header=False, new_columns=self.csv_columns)\n",
    "            \n",
    "            # 2. Traitement des données\n",
    "            df = df.with_columns([\n",
    "                pl.col(\"open_time\").cast(pl.Int64, strict=False),\n",
    "                pl.col(\"close_time\").cast(pl.Int64, strict=False),\n",
    "            ])\n",
    "            \n",
    "            # 3. Détection et conversion timestamp\n",
    "            first_ts = df.select(pl.col(\"open_time\").first()).item()\n",
    "            if first_ts > 10_000_000_000_000:  # microsecondes\n",
    "                ts_col = (pl.col(\"open_time\") // 1000).cast(pl.Datetime(\"ms\"))\n",
    "            elif first_ts > 10_000_000_000:   # millisecondes\n",
    "                ts_col = pl.col(\"open_time\").cast(pl.Datetime(\"ms\"))\n",
    "            else:  # secondes\n",
    "                ts_col = (pl.col(\"open_time\") * 1000).cast(pl.Datetime(\"ms\"))\n",
    "            \n",
    "            # 4. Ajout des colonnes finales\n",
    "            ingest_id = datetime.datetime.utcnow().strftime(\"%Y%m%dT%H%M%SZ\")\n",
    "            df = df.with_columns([\n",
    "                ts_col.alias(\"datetime\"),\n",
    "                pl.lit(ingest_id).alias(\"ingest_id\"),\n",
    "            ]).with_columns([\n",
    "                pl.col(\"datetime\").dt.year().alias(\"year\"),\n",
    "                pl.col(\"datetime\").dt.month().alias(\"month\"),\n",
    "                pl.col(\"datetime\").dt.day().alias(\"day\"),\n",
    "            ])\n",
    "            \n",
    "            # 5. Affichage des informations\n",
    "            min_max = df.select([\n",
    "                pl.col(\"datetime\").min().alias(\"min_dt\"),\n",
    "                pl.col(\"datetime\").max().alias(\"max_dt\"),\n",
    "            ]).to_dicts()[0]\n",
    "            print(f\"   📊 {df.height} lignes | {min_max['min_dt']} → {min_max['max_dt']}\")\n",
    "            \n",
    "            # 6. Sauvegarde avec gestion de l'écrasement\n",
    "            try:\n",
    "                con.execute(\"DROP VIEW IF EXISTS tmp_data\")\n",
    "            except:\n",
    "                pass\n",
    "            \n",
    "            con.register(\"tmp_data\", df.to_arrow())\n",
    "            \n",
    "            # COPY avec option OVERWRITE_OR_IGNORE\n",
    "            sql = f\"\"\"\n",
    "                COPY tmp_data\n",
    "                TO '{output_path}'\n",
    "                WITH (FORMAT PARQUET, PARTITION_BY (year, month, day), OVERWRITE_OR_IGNORE TRUE)\n",
    "            \"\"\"\n",
    "            con.execute(sql)\n",
    "            print(f\"   ✅ Sauvegardé dans bronze\")\n",
    "            \n",
    "            self.processed_files += 1\n",
    "            \n",
    "        except Exception as e:\n",
    "            print(f\"   ❌ Erreur: {str(e)}\")\n",
    "            self.errors.append({\"file\": zip_path.name, \"error\": str(e)})\n",
    "        \n",
    "        finally:\n",
    "            try:\n",
    "                con.execute(\"DROP VIEW IF EXISTS tmp_data\")\n",
    "            except:\n",
    "                pass\n",
    "    \n",
    "    def run(self):\n",
    "        \"\"\"Exécute le traitement complet\"\"\"\n",
    "        # Chemins\n",
    "        base_path = Path(\n",
    "            f\"/media/giujorge/Stockage/DATA/raw/{self.config['provider']}/\"\n",
    "            f\"{self.config['market']}/{self.config['data_frequency']}/\"\n",
    "            f\"{self.config['data_category']}/{self.config['symbol']}/{self.config['interval']}\"\n",
    "        )\n",
    "        \n",
    "        output_path = (\n",
    "            f\"s3://bronze/{self.config['provider']}/{self.config['data_type']}/\"\n",
    "            f\"{self.config['market']}/{self.config['data_frequency']}/{self.config['data_category']}/\"\n",
    "            f\"{self.config['symbol']}/{self.config['interval']}/\"\n",
    "        )\n",
    "        \n",
    "        zip_files = sorted(base_path.glob(\"*.zip\"))\n",
    "        print(f\"🚀 Début du traitement de {len(zip_files)} fichiers\")\n",
    "        print(f\"🎯 Destination: {output_path}\\n\")\n",
    "        \n",
    "        # Connexion DuckDB\n",
    "        con = self.setup_duckdb_connection()\n",
    "        \n",
    "        try:\n",
    "            for zip_file in zip_files:\n",
    "                self.process_file(zip_file, con, output_path)\n",
    "        finally:\n",
    "            con.close()\n",
    "        \n",
    "        # Résumé\n",
    "        print(f\"\\n{'='*50}\")\n",
    "        print(f\"✅ Fichiers traités: {self.processed_files}\")\n",
    "        print(f\"❌ Erreurs: {len(self.errors)}\")\n",
    "        if self.errors:\n",
    "            for error in self.errors[:5]:  # Première 5 erreurs seulement\n",
    "                print(f\"   • {error['file']}: {error['error']}\")\n",
    "\n",
    "# Configuration et exécution\n",
    "config = {\n",
    "    \"provider\": \"binance\",\n",
    "    \"data_type\": \"data\", \n",
    "    \"market\": \"spot\",\n",
    "    \"data_frequency\": \"monthly\",\n",
    "    \"data_category\": \"klines\",\n",
    "    \"symbol\": \"BTCUSDT\",\n",
    "    \"interval\": \"4h\",\n",
    "    \"minio_access_key\": os.getenv(\"MINIO_ROOT_USER\", \"minioadm\"),\n",
    "    \"minio_secret_key\": os.getenv(\"MINIO_ROOT_PASSWORD\", \"minioadm\"),\n",
    "    \"minio_endpoint\": os.getenv(\"MINIO_ENDPOINT\", \"127.0.0.1:9000\"),\n",
    "}\n",
    "\n",
    "# Démarrage\n",
    "processor = BinanceDataProcessorV2(config)\n",
    "processor.run()"
   ]
  },
  {
   "cell_type": "markdown",
   "id": "bb3bdecb",
   "metadata": {},
   "source": [
    "---\n",
    "\n",
    "## 📋 Workflow Complet pour Nouveaux Fichiers ZIP\n",
    "\n",
    "### **Étape 1 : Préparation**\n",
    "1. **Téléchargez** vos nouveaux fichiers ZIP dans le répertoire source :\n",
    "   ```\n",
    "   /media/giujorge/Stockage/DATA/raw/binance/spot/monthly/klines/BTCUSDT/4h/\n",
    "   ```\n",
    "\n",
    "2. **Vérifiez** que MinIO est démarré :\n",
    "   ```bash\n",
    "   sudo systemctl status minio\n",
    "   ```\n",
    "\n",
    "### **Étape 2 : Traitement (Choisissez une option)**\n",
    "\n",
    "#### 🤖 **Option A : Automatique (Recommandé)**\n",
    "```python\n",
    "# Traite automatiquement tous les nouveaux fichiers\n",
    "incremental_processor.process_new_files_only()\n",
    "```\n",
    "\n",
    "#### 🎯 **Option B : Spécifique**\n",
    "```python\n",
    "# Traite uniquement les fichiers que vous spécifiez\n",
    "nouveaux_fichiers = [\"BTCUSDT-4h-2025-09.zip\", \"BTCUSDT-4h-2025-10.zip\"]\n",
    "incremental_processor.process_new_files_only(nouveaux_fichiers)\n",
    "```\n",
    "\n",
    "#### 🧪 **Option C : Simulation d'abord**\n",
    "```python\n",
    "# Voir quels fichiers seraient traités (sans les traiter)\n",
    "simulate_incremental_processing()\n",
    "```\n",
    "\n",
    "### **Étape 3 : Vérification**\n",
    "\n",
    "Après traitement, vous pouvez vérifier que les données sont bien ajoutées :\n",
    "\n",
    "```python\n",
    "# Vérifier avec DuckDB\n",
    "con = duckdb.connect()\n",
    "con.execute(\"SET s3_endpoint='127.0.0.1:9000'\")  # Config MinIO\n",
    "result = con.execute(\"\"\"\n",
    "    SELECT \n",
    "        COUNT(*) as total_records,\n",
    "        MIN(datetime) as earliest_date,\n",
    "        MAX(datetime) as latest_date\n",
    "    FROM read_parquet('s3://bronze/binance/data/spot/monthly/klines/BTCUSDT/4h/**/*.parquet')\n",
    "\"\"\").fetchone()\n",
    "print(f\"📊 Total: {result[0]} enregistrements | {result[1]} → {result[2]}\")\n",
    "```\n",
    "\n",
    "### **🔄 Processus Récurrent**\n",
    "\n",
    "Pour automatiser l'ajout de nouveaux fichiers, vous pouvez :\n",
    "\n",
    "1. **Script automatisé** : Créer un script Python qui exécute `process_new_files_only()`\n",
    "2. **CRON job** : Programmer l'exécution automatique (quotidienne/hebdomadaire)\n",
    "3. **Workflow CI/CD** : Intégrer dans votre pipeline de données\n",
    "\n",
    "\n",
    "---\n",
    "\n",
    "✅ **Votre data lakehouse est maintenant prêt pour l'ajout incrémental de nouvelles données !**\n",
    "\n",
    "---\n",
    "\n",
    "### ✨ **Avantages du Processeur Incrémental**\n",
    "\n",
    "- **🚀 Rapidité** : Ne traite que les nouveaux fichiers\n",
    "- **🛡️ Sécurité** : Évite de retraiter les données existantes  \n",
    "- **📊 Traçabilité** : Chaque fichier est identifié dans les métadonnées\n",
    "- **🔄 Idempotent** : Peut être relancé sans risque\n",
    "- **⚡ Efficace** : Utilise les partitions existantes\n",
    "\n",
    "---\n",
    "\n",
    "### 🗓️ **Cas d'Usage Typiques**\n",
    "\n",
    "1. **Données mensuelles** : Ajout automatique du fichier du mois en cours\n",
    "2. **Backfill historique** : Ajout de données manquantes spécifiques\n",
    "3. **Mise à jour régulière** : Traitement automatique dans un CRON job\n",
    "4. **Tests** : Traitement de fichiers de test sans impacter la production\n",
    "\n",
    "---"
   ]
  },
  {
   "cell_type": "code",
   "execution_count": 1,
   "id": "1c16f9f5",
   "metadata": {},
   "outputs": [
    {
     "name": "stdout",
     "output_type": "stream",
     "text": [
      "🔄 PROCESSEUR INCRÉMENTAL PRÊT\n",
      "Utilisez les méthodes suivantes selon vos besoins:\n",
      "1. incremental_processor.process_new_files_only()  # Auto-détection\n",
      "2. incremental_processor.process_new_files_only(['nouveau_fichier.zip'])  # Fichiers spécifiques\n"
     ]
    }
   ],
   "source": [
    "\"\"\"\n",
    "Guide pour ajouter de nouveaux fichiers ZIP au Data Lakehouse\n",
    "\"\"\"\n",
    "\n",
    "# 1. MÉTHODE RECOMMANDÉE : Traitement incrémental\n",
    "# Utilisez cette approche pour traiter uniquement les nouveaux fichiers\n",
    "\n",
    "import zipfile\n",
    "import datetime\n",
    "import os\n",
    "from pathlib import Path\n",
    "import duckdb\n",
    "import polars as pl\n",
    "\n",
    "class IncrementalProcessor:\n",
    "    \"\"\"Processeur incrémental pour nouveaux fichiers uniquement\"\"\"\n",
    "    \n",
    "    def __init__(self, config: dict):\n",
    "        self.config = config\n",
    "        self.csv_columns = [\n",
    "            \"open_time\", \"open\", \"high\", \"low\", \"close\", \"volume\", \"close_time\",\n",
    "            \"quote_asset_volume\", \"number_of_trades\", \"taker_buy_base_volume\",\n",
    "            \"taker_buy_quote_volume\", \"ignore\"\n",
    "        ]\n",
    "    \n",
    "    def setup_duckdb_connection(self):\n",
    "        \"\"\"Configure DuckDB pour S3/MinIO\"\"\"\n",
    "        con = duckdb.connect(database=\":memory:\")\n",
    "        con.execute(f\"\"\"\n",
    "            SET s3_access_key_id='{self.config[\"minio_access_key\"]}';\n",
    "            SET s3_secret_access_key='{self.config[\"minio_secret_key\"]}';\n",
    "            SET s3_endpoint='{self.config[\"minio_endpoint\"]}';\n",
    "            SET s3_url_style='path';\n",
    "            SET s3_use_ssl='false';\n",
    "        \"\"\")\n",
    "        return con\n",
    "    \n",
    "    def get_processed_files_list(self, con):\n",
    "        \"\"\"Récupère la liste des fichiers déjà traités depuis les métadonnées\"\"\"\n",
    "        output_path = (\n",
    "            f\"s3://bronze/{self.config['provider']}/{self.config['data_type']}/\"\n",
    "            f\"{self.config['market']}/{self.config['data_frequency']}/{self.config['data_category']}/\"\n",
    "            f\"{self.config['symbol']}/{self.config['interval']}/**/*.parquet\"\n",
    "        )\n",
    "        \n",
    "        try:\n",
    "            # Lire les métadonnées pour identifier les fichiers sources déjà traités\n",
    "            # Note: Cette approche nécessite que ingest_id contienne l'info du fichier source\n",
    "            result = con.execute(f\"\"\"\n",
    "                SELECT DISTINCT \n",
    "                    split_part(ingest_id, '_', -1) as source_file\n",
    "                FROM read_parquet('{output_path}')\n",
    "                WHERE ingest_id IS NOT NULL\n",
    "            \"\"\").fetchall()\n",
    "            return [row[0] for row in result] if result else []\n",
    "        except Exception as e:\n",
    "            print(f\"⚠️ Impossible de lire les métadonnées existantes: {e}\")\n",
    "            return []\n",
    "    \n",
    "    def process_new_files_only(self, specific_files=None):\n",
    "        \"\"\"Traite uniquement les nouveaux fichiers\"\"\"\n",
    "        # Chemins\n",
    "        base_path = Path(\n",
    "            f\"/media/giujorge/Stockage/DATA/raw/{self.config['provider']}/\"\n",
    "            f\"{self.config['market']}/{self.config['data_frequency']}/\"\n",
    "            f\"{self.config['data_category']}/{self.config['symbol']}/{self.config['interval']}\"\n",
    "        )\n",
    "        \n",
    "        output_path = (\n",
    "            f\"s3://bronze/{self.config['provider']}/{self.config['data_type']}/\"\n",
    "            f\"{self.config['market']}/{self.config['data_frequency']}/{self.config['data_category']}/\"\n",
    "            f\"{self.config['symbol']}/{self.config['interval']}/\"\n",
    "        )\n",
    "        \n",
    "        # Connexion DuckDB\n",
    "        con = self.setup_duckdb_connection()\n",
    "        \n",
    "        try:\n",
    "            # Option 1: Traiter des fichiers spécifiques\n",
    "            if specific_files:\n",
    "                files_to_process = [base_path / f for f in specific_files if (base_path / f).exists()]\n",
    "                print(f\"🎯 Traitement de fichiers spécifiques: {specific_files}\")\n",
    "            else:\n",
    "                # Option 2: Traitement automatique des nouveaux fichiers\n",
    "                all_files = list(base_path.glob(\"*.zip\"))\n",
    "                processed_files = self.get_processed_files_list(con)\n",
    "                \n",
    "                files_to_process = [\n",
    "                    f for f in all_files \n",
    "                    if f.name not in processed_files\n",
    "                ]\n",
    "                print(f\"📁 {len(all_files)} fichiers totaux, {len(processed_files)} déjà traités\")\n",
    "                print(f\"🆕 {len(files_to_process)} nouveaux fichiers à traiter\")\n",
    "            \n",
    "            if not files_to_process:\n",
    "                print(\"✅ Aucun nouveau fichier à traiter!\")\n",
    "                return\n",
    "            \n",
    "            # Traitement\n",
    "            processed_count = 0\n",
    "            for zip_file in files_to_process:\n",
    "                print(f\"\\n📁 Traitement: {zip_file.name}\")\n",
    "                success = self.process_single_file(zip_file, con, output_path)\n",
    "                if success:\n",
    "                    processed_count += 1\n",
    "            \n",
    "            print(f\"\\n🎉 Traitement terminé: {processed_count}/{len(files_to_process)} fichiers\")\n",
    "            \n",
    "        finally:\n",
    "            con.close()\n",
    "    \n",
    "    def process_single_file(self, zip_path: Path, con, output_path: str) -> bool:\n",
    "        \"\"\"Traite un seul fichier ZIP\"\"\"\n",
    "        try:\n",
    "            # 1. Lecture\n",
    "            with zipfile.ZipFile(str(zip_path)) as z:\n",
    "                csv_name = [n for n in z.namelist() if n.lower().endswith('.csv')][0]\n",
    "                with z.open(csv_name) as f:\n",
    "                    df = pl.read_csv(f, has_header=False, new_columns=self.csv_columns)\n",
    "            \n",
    "            # 2. Transformation\n",
    "            df = df.with_columns([\n",
    "                pl.col(\"open_time\").cast(pl.Int64, strict=False),\n",
    "                pl.col(\"close_time\").cast(pl.Int64, strict=False),\n",
    "            ])\n",
    "            \n",
    "            # 3. Timestamp conversion\n",
    "            first_ts = df.select(pl.col(\"open_time\").first()).item()\n",
    "            if first_ts > 10_000_000_000_000:\n",
    "                ts_col = (pl.col(\"open_time\") // 1000).cast(pl.Datetime(\"ms\"))\n",
    "            elif first_ts > 10_000_000_000:\n",
    "                ts_col = pl.col(\"open_time\").cast(pl.Datetime(\"ms\"))\n",
    "            else:\n",
    "                ts_col = (pl.col(\"open_time\") * 1000).cast(pl.Datetime(\"ms\"))\n",
    "            \n",
    "            # 4. Métadonnées avec référence au fichier source\n",
    "            ingest_id = f\"{datetime.datetime.utcnow().strftime('%Y%m%dT%H%M%SZ')}_{zip_path.name}\"\n",
    "            \n",
    "            df = df.with_columns([\n",
    "                ts_col.alias(\"datetime\"),\n",
    "                pl.lit(ingest_id).alias(\"ingest_id\"),\n",
    "            ]).with_columns([\n",
    "                pl.col(\"datetime\").dt.year().alias(\"year\"),\n",
    "                pl.col(\"datetime\").dt.month().alias(\"month\"),\n",
    "                pl.col(\"datetime\").dt.day().alias(\"day\"),\n",
    "            ])\n",
    "            \n",
    "            # 5. Sauvegarde\n",
    "            try:\n",
    "                con.execute(\"DROP VIEW IF EXISTS tmp_new_data\")\n",
    "            except:\n",
    "                pass\n",
    "            \n",
    "            con.register(\"tmp_new_data\", df.to_arrow())\n",
    "            \n",
    "            sql = f\"\"\"\n",
    "                COPY tmp_new_data\n",
    "                TO '{output_path}'\n",
    "                WITH (FORMAT PARQUET, PARTITION_BY (year, month, day), OVERWRITE_OR_IGNORE TRUE)\n",
    "            \"\"\"\n",
    "            con.execute(sql)\n",
    "            \n",
    "            min_max = df.select([\n",
    "                pl.col(\"datetime\").min().alias(\"min_dt\"),\n",
    "                pl.col(\"datetime\").max().alias(\"max_dt\"),\n",
    "            ]).to_dicts()[0]\n",
    "            \n",
    "            print(f\"   ✅ {df.height} lignes | {min_max['min_dt']} → {min_max['max_dt']}\")\n",
    "            return True\n",
    "            \n",
    "        except Exception as e:\n",
    "            print(f\"   ❌ Erreur: {str(e)}\")\n",
    "            return False\n",
    "        finally:\n",
    "            try:\n",
    "                con.execute(\"DROP VIEW IF EXISTS tmp_new_data\")\n",
    "            except:\n",
    "                pass\n",
    "\n",
    "# Configuration (même que précédemment)\n",
    "config = {\n",
    "    \"provider\": \"binance\",\n",
    "    \"data_type\": \"data\",\n",
    "    \"market\": \"spot\", \n",
    "    \"data_frequency\": \"monthly\",\n",
    "    \"data_category\": \"klines\",\n",
    "    \"symbol\": \"BTCUSDT\",\n",
    "    \"interval\": \"4h\",\n",
    "    \"minio_access_key\": os.getenv(\"MINIO_ROOT_USER\", \"minioadm\"),\n",
    "    \"minio_secret_key\": os.getenv(\"MINIO_ROOT_PASSWORD\", \"minioadm\"),\n",
    "    \"minio_endpoint\": os.getenv(\"MINIO_ENDPOINT\", \"127.0.0.1:9000\"),\n",
    "}\n",
    "\n",
    "# Instanciation du processeur incrémental\n",
    "incremental_processor = IncrementalProcessor(config)\n",
    "\n",
    "print(\"🔄 PROCESSEUR INCRÉMENTAL PRÊT\")\n",
    "print(\"Utilisez les méthodes suivantes selon vos besoins:\")\n",
    "print(\"1. incremental_processor.process_new_files_only()  # Auto-détection\")\n",
    "print(\"2. incremental_processor.process_new_files_only(['nouveau_fichier.zip'])  # Fichiers spécifiques\")"
   ]
  },
  {
   "cell_type": "markdown",
   "id": "fdfb5864",
   "metadata": {},
   "source": [
    "---\n",
    "\n",
    "## 🔄 Processus pour Ajouter de Nouveaux Fichiers ZIP\n",
    "\n",
    "Maintenant que votre data lakehouse est configuré, voici **3 approches** pour ajouter de nouveaux fichiers :\n",
    "\n",
    "### 🎯 **Option 1 : Traitement Automatique (Recommandé)**\n",
    "```python\n",
    "# Détecte automatiquement les nouveaux fichiers et les traite\n",
    "incremental_processor.process_new_files_only()\n",
    "```\n",
    "\n",
    "### 📂 **Option 2 : Fichiers Spécifiques**\n",
    "```python\n",
    "# Traite uniquement les fichiers que vous spécifiez\n",
    "nouveaux_fichiers = [\"BTCUSDT-4h-2025-09.zip\", \"BTCUSDT-4h-2025-10.zip\"]\n",
    "incremental_processor.process_new_files_only(nouveaux_fichiers)\n",
    "```\n",
    "\n",
    "### 🔧 **Option 3 : Workflow Manuel**\n",
    "1. **Téléchargez** vos nouveaux fichiers ZIP dans le répertoire source\n",
    "2. **Exécutez** une des commandes ci-dessus\n",
    "3. **Vérifiez** que les données sont bien ajoutées dans MinIO"
   ]
  },
  {
   "cell_type": "code",
   "execution_count": 13,
   "id": "7673ee91",
   "metadata": {},
   "outputs": [
    {
     "name": "stdout",
     "output_type": "stream",
     "text": [
      "📁 Fichiers trouvés dans le répertoire source:\n",
      "    1. BTCUSDT-4h-2017-08.zip\n",
      "    2. BTCUSDT-4h-2017-09.zip\n",
      "    3. BTCUSDT-4h-2017-10.zip\n",
      "    4. BTCUSDT-4h-2017-11.zip\n",
      "    5. BTCUSDT-4h-2017-12.zip\n",
      "    6. BTCUSDT-4h-2018-01.zip\n",
      "    7. BTCUSDT-4h-2018-02.zip\n",
      "    8. BTCUSDT-4h-2018-03.zip\n",
      "    9. BTCUSDT-4h-2018-04.zip\n",
      "   10. BTCUSDT-4h-2018-05.zip\n",
      "   ... et 87 autres fichiers\n",
      "\n",
      "🔍 Pour identifier les nouveaux fichiers, le processeur va:\n",
      "   1. Lire les métadonnées depuis MinIO\n",
      "   2. Comparer avec les fichiers locaux\n",
      "   3. Traiter uniquement les différences\n",
      "\n",
      "💡 Prêt à traiter jusqu'à 97 fichiers si nécessaire!\n"
     ]
    }
   ],
   "source": [
    "# 🧪 EXEMPLE DE TEST - Traitement incrémental\n",
    "# Décommentez et exécutez pour tester\n",
    "\n",
    "# Exemple 1: Traitement automatique de tous les nouveaux fichiers\n",
    "# incremental_processor.process_new_files_only()\n",
    "\n",
    "# Exemple 2: Traitement de fichiers spécifiques (remplacez par vos vrais fichiers)\n",
    "# nouveaux_fichiers = [\"BTCUSDT-4h-2025-09.zip\"]  # Vos nouveaux fichiers\n",
    "# incremental_processor.process_new_files_only(nouveaux_fichiers)\n",
    "\n",
    "# Exemple 3: Simulation - vérifier quels fichiers seraient traités\n",
    "def simulate_incremental_processing():\n",
    "    \"\"\"Simule le traitement pour voir quels fichiers seraient traités\"\"\"\n",
    "    base_path = Path(\n",
    "        f\"/media/giujorge/Stockage/DATA/raw/{config['provider']}/\"\n",
    "        f\"{config['market']}/{config['data_frequency']}/\"\n",
    "        f\"{config['data_category']}/{config['symbol']}/{config['interval']}\"\n",
    "    )\n",
    "    \n",
    "    all_files = list(base_path.glob(\"*.zip\"))\n",
    "    print(f\"📁 Fichiers trouvés dans le répertoire source:\")\n",
    "    for i, f in enumerate(sorted(all_files)[:10], 1):  # Afficher les 10 premiers\n",
    "        print(f\"   {i:2d}. {f.name}\")\n",
    "    \n",
    "    if len(all_files) > 10:\n",
    "        print(f\"   ... et {len(all_files) - 10} autres fichiers\")\n",
    "    \n",
    "    print(f\"\\n🔍 Pour identifier les nouveaux fichiers, le processeur va:\")\n",
    "    print(f\"   1. Lire les métadonnées depuis MinIO\")\n",
    "    print(f\"   2. Comparer avec les fichiers locaux\")\n",
    "    print(f\"   3. Traiter uniquement les différences\")\n",
    "    \n",
    "    return len(all_files)\n",
    "\n",
    "# Lancez cette simulation pour voir l'état actuel\n",
    "total_files = simulate_incremental_processing()\n",
    "print(f\"\\n💡 Prêt à traiter jusqu'à {total_files} fichiers si nécessaire!\")"
   ]
  },
  {
   "cell_type": "markdown",
   "id": "c6961107",
   "metadata": {},
   "source": []
  }
 ],
 "metadata": {
  "kernelspec": {
   "display_name": "hermes-py3.10",
   "language": "python",
   "name": "python3"
  },
  "language_info": {
   "codemirror_mode": {
    "name": "ipython",
    "version": 3
   },
   "file_extension": ".py",
   "mimetype": "text/x-python",
   "name": "python",
   "nbconvert_exporter": "python",
   "pygments_lexer": "ipython3",
   "version": "3.10.18"
  }
 },
 "nbformat": 4,
 "nbformat_minor": 5
}
