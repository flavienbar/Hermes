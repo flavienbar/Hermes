{
 "cells": [
  {
   "cell_type": "markdown",
   "id": "ce6f2d05",
   "metadata": {},
   "source": [
    "# Téléchargement des fichiers ZIP Binance Klines BTCUSDT 5m\n",
    "\n",
    "Ce notebook télécharge tous les fichiers ZIP de la page [Binance Vision - BTCUSDT 5m](https://data.binance.vision/?prefix=data/spot/monthly/klines/BTCUSDT/5m/).\n",
    "\n",
    "- **Paramétrable** : marché, granularité, type de données, symbole, etc.\n",
    "- **Téléchargement parallèle** (max 5/minute)\n",
    "- **Vérification d'intégrité**\n",
    "- **Destination** : `/home/giujorge/Downloads/`\n",
    "\n",
    "---"
   ]
  },
  {
   "cell_type": "code",
   "execution_count": 1,
   "id": "34614f21",
   "metadata": {},
   "outputs": [],
   "source": [
    "import os\n",
    "import time\n",
    "import requests\n",
    "from concurrent.futures import ThreadPoolExecutor, as_completed\n",
    "from tqdm import tqdm\n",
    "from datetime import datetime\n",
    "\n",
    "def generate_zip_links(symbol, interval, start_year, start_month, end_year, end_month):\n",
    "    \"\"\"\n",
    "    Génère la liste des URLs .zip à télécharger entre deux dates (incluses).\n",
    "    \"\"\"\n",
    "    links = []\n",
    "    y, m = start_year, start_month\n",
    "    while (y < end_year) or (y == end_year and m <= end_month):\n",
    "        fname = f\"{symbol}-{interval}-{y:04d}-{m:02d}.zip\"\n",
    "        url = f\"https://data.binance.vision/data/spot/monthly/klines/{symbol}/{interval}/{fname}\"\n",
    "        links.append(url)\n",
    "        m += 1\n",
    "        if m > 12:\n",
    "            m = 1\n",
    "            y += 1\n",
    "    return links\n"
   ]
  },
  {
   "cell_type": "code",
   "execution_count": 46,
   "id": "c36ba0ef",
   "metadata": {},
   "outputs": [
    {
     "name": "stdout",
     "output_type": "stream",
     "text": [
      "Cible: https://data.binance.vision/data/spot/monthly/klines/BTCUSDT/4h/\n"
     ]
    }
   ],
   "source": [
    "# Paramètres variables\n",
    "DATA_TYPE = \"data\"\n",
    "MARKET = \"spot\"\n",
    "DATA_FREQUENCY = \"monthly\"\n",
    "DATA_CATEGORY = \"klines\"\n",
    "SYMBOL = \"BTCUSDT\"\n",
    "INTERVAL = \"4h\"\n",
    "DEST_DIR = f\"/media/giujorge/Stockage/DATA/raw/binance/{MARKET}/{DATA_FREQUENCY}/{DATA_CATEGORY}/{SYMBOL}/{INTERVAL}\"\n",
    "MAX_PARALLEL = 5\n",
    "RATE_LIMIT_SECONDS = 60  # 5 téléchargements par minute\n",
    "START_YEAR, START_MONTH = 2017, 8\n",
    "END_YEAR, END_MONTH = 2025, 8\n",
    "\n",
    "BASE_URL = f\"https://data.binance.vision/{DATA_TYPE}/{MARKET}/{DATA_FREQUENCY}/{DATA_CATEGORY}/{SYMBOL}/{INTERVAL}/\"\n",
    "\n",
    "print(f\"Cible: {BASE_URL.format({SYMBOL}, {INTERVAL})}\")\n",
    "\n",
    "# Création du dossier de destination\n",
    "os.makedirs(DEST_DIR, exist_ok=True)\n"
   ]
  },
  {
   "cell_type": "code",
   "execution_count": 47,
   "id": "7bdc9f86",
   "metadata": {},
   "outputs": [],
   "source": [
    "def download_file(url, dest_dir):\n",
    "    \"\"\"Télécharge un fichier ZIP et vérifie son intégrité.\"\"\"\n",
    "    local_filename = os.path.join(dest_dir, url.split('/')[-1])\n",
    "    if os.path.exists(local_filename):\n",
    "        return local_filename, 'déjà téléchargé'\n",
    "    try:\n",
    "        with requests.get(url, stream=True, timeout=60) as r:\n",
    "            if r.status_code == 404:\n",
    "                return local_filename, '404 not found'\n",
    "            r.raise_for_status()\n",
    "            with open(local_filename, 'wb') as f:\n",
    "                for chunk in r.iter_content(chunk_size=8192):\n",
    "                    if chunk:\n",
    "                        f.write(chunk)\n",
    "        # Vérification basique de l'intégrité (taille > 0)\n",
    "        if os.path.getsize(local_filename) == 0:\n",
    "            os.remove(local_filename)\n",
    "            return local_filename, 'fichier vide'\n",
    "        return local_filename, 'ok'\n",
    "    except Exception as e:\n",
    "        if os.path.exists(local_filename):\n",
    "            os.remove(local_filename)\n",
    "        return local_filename, f'erreur: {e}'\n"
   ]
  },
  {
   "cell_type": "code",
   "execution_count": 48,
   "id": "dd38c7d5",
   "metadata": {},
   "outputs": [
    {
     "name": "stdout",
     "output_type": "stream",
     "text": [
      "97 fichiers .zip à télécharger.\n",
      "Exemple de lien: https://data.binance.vision/data/spot/monthly/klines/BTCUSDT/4h/BTCUSDT-4h-2017-08.zip\n"
     ]
    }
   ],
   "source": [
    "zip_links = generate_zip_links(SYMBOL, INTERVAL, START_YEAR, START_MONTH, END_YEAR, END_MONTH)\n",
    "print(f\"{len(zip_links)} fichiers .zip à télécharger.\")\n",
    "if zip_links:\n",
    "    print(\"Exemple de lien:\", zip_links[0])\n"
   ]
  },
  {
   "cell_type": "code",
   "execution_count": 49,
   "id": "ee4a961a",
   "metadata": {},
   "outputs": [
    {
     "name": "stderr",
     "output_type": "stream",
     "text": [
      "Batch 1:   0%|          | 0/5 [00:00<?, ?it/s]"
     ]
    },
    {
     "name": "stderr",
     "output_type": "stream",
     "text": [
      "Batch 1: 100%|██████████| 5/5 [00:00<00:00,  5.08it/s]\n"
     ]
    },
    {
     "name": "stdout",
     "output_type": "stream",
     "text": [
      "Pause 60s pour respecter la limite de 5 téléchargements/minute...\n"
     ]
    },
    {
     "name": "stderr",
     "output_type": "stream",
     "text": [
      "Batch 2: 100%|██████████| 5/5 [00:01<00:00,  2.86it/s]\n"
     ]
    },
    {
     "name": "stdout",
     "output_type": "stream",
     "text": [
      "Pause 60s pour respecter la limite de 5 téléchargements/minute...\n"
     ]
    },
    {
     "name": "stderr",
     "output_type": "stream",
     "text": [
      "Batch 3: 100%|██████████| 5/5 [00:01<00:00,  2.97it/s]\n"
     ]
    },
    {
     "name": "stdout",
     "output_type": "stream",
     "text": [
      "Pause 60s pour respecter la limite de 5 téléchargements/minute...\n"
     ]
    },
    {
     "name": "stderr",
     "output_type": "stream",
     "text": [
      "Batch 4: 100%|██████████| 5/5 [00:01<00:00,  2.82it/s]\n"
     ]
    },
    {
     "name": "stdout",
     "output_type": "stream",
     "text": [
      "Pause 60s pour respecter la limite de 5 téléchargements/minute...\n"
     ]
    },
    {
     "name": "stderr",
     "output_type": "stream",
     "text": [
      "Batch 5: 100%|██████████| 5/5 [00:01<00:00,  3.15it/s]\n"
     ]
    },
    {
     "name": "stdout",
     "output_type": "stream",
     "text": [
      "Pause 60s pour respecter la limite de 5 téléchargements/minute...\n"
     ]
    },
    {
     "name": "stderr",
     "output_type": "stream",
     "text": [
      "Batch 6: 100%|██████████| 5/5 [00:01<00:00,  2.88it/s]\n"
     ]
    },
    {
     "name": "stdout",
     "output_type": "stream",
     "text": [
      "Pause 60s pour respecter la limite de 5 téléchargements/minute...\n"
     ]
    },
    {
     "name": "stderr",
     "output_type": "stream",
     "text": [
      "Batch 7: 100%|██████████| 5/5 [00:01<00:00,  2.92it/s]\n"
     ]
    },
    {
     "name": "stdout",
     "output_type": "stream",
     "text": [
      "Pause 60s pour respecter la limite de 5 téléchargements/minute...\n"
     ]
    },
    {
     "name": "stderr",
     "output_type": "stream",
     "text": [
      "Batch 8: 100%|██████████| 5/5 [00:01<00:00,  2.98it/s]\n"
     ]
    },
    {
     "name": "stdout",
     "output_type": "stream",
     "text": [
      "Pause 60s pour respecter la limite de 5 téléchargements/minute...\n"
     ]
    },
    {
     "name": "stderr",
     "output_type": "stream",
     "text": [
      "Batch 9: 100%|██████████| 5/5 [00:01<00:00,  2.89it/s]\n"
     ]
    },
    {
     "name": "stdout",
     "output_type": "stream",
     "text": [
      "Pause 60s pour respecter la limite de 5 téléchargements/minute...\n"
     ]
    },
    {
     "name": "stderr",
     "output_type": "stream",
     "text": [
      "Batch 10: 100%|██████████| 5/5 [00:01<00:00,  2.85it/s]\n"
     ]
    },
    {
     "name": "stdout",
     "output_type": "stream",
     "text": [
      "Pause 60s pour respecter la limite de 5 téléchargements/minute...\n"
     ]
    },
    {
     "name": "stderr",
     "output_type": "stream",
     "text": [
      "Batch 11: 100%|██████████| 5/5 [00:01<00:00,  2.92it/s]\n"
     ]
    },
    {
     "name": "stdout",
     "output_type": "stream",
     "text": [
      "Pause 60s pour respecter la limite de 5 téléchargements/minute...\n"
     ]
    },
    {
     "name": "stderr",
     "output_type": "stream",
     "text": [
      "Batch 12: 100%|██████████| 5/5 [00:01<00:00,  2.93it/s]\n"
     ]
    },
    {
     "name": "stdout",
     "output_type": "stream",
     "text": [
      "Pause 60s pour respecter la limite de 5 téléchargements/minute...\n"
     ]
    },
    {
     "name": "stderr",
     "output_type": "stream",
     "text": [
      "Batch 13: 100%|██████████| 5/5 [00:01<00:00,  2.84it/s]\n"
     ]
    },
    {
     "name": "stdout",
     "output_type": "stream",
     "text": [
      "Pause 60s pour respecter la limite de 5 téléchargements/minute...\n"
     ]
    },
    {
     "name": "stderr",
     "output_type": "stream",
     "text": [
      "Batch 14: 100%|██████████| 5/5 [00:01<00:00,  2.89it/s]\n"
     ]
    },
    {
     "name": "stdout",
     "output_type": "stream",
     "text": [
      "Pause 60s pour respecter la limite de 5 téléchargements/minute...\n"
     ]
    },
    {
     "name": "stderr",
     "output_type": "stream",
     "text": [
      "Batch 15: 100%|██████████| 5/5 [00:01<00:00,  2.91it/s]\n"
     ]
    },
    {
     "name": "stdout",
     "output_type": "stream",
     "text": [
      "Pause 60s pour respecter la limite de 5 téléchargements/minute...\n"
     ]
    },
    {
     "name": "stderr",
     "output_type": "stream",
     "text": [
      "Batch 16: 100%|██████████| 5/5 [00:01<00:00,  4.71it/s]\n"
     ]
    },
    {
     "name": "stdout",
     "output_type": "stream",
     "text": [
      "Pause 60s pour respecter la limite de 5 téléchargements/minute...\n"
     ]
    },
    {
     "name": "stderr",
     "output_type": "stream",
     "text": [
      "Batch 17: 100%|██████████| 5/5 [00:01<00:00,  4.53it/s]\n"
     ]
    },
    {
     "name": "stdout",
     "output_type": "stream",
     "text": [
      "Pause 60s pour respecter la limite de 5 téléchargements/minute...\n"
     ]
    },
    {
     "name": "stderr",
     "output_type": "stream",
     "text": [
      "Batch 18: 100%|██████████| 5/5 [00:00<00:00,  5.04it/s]\n"
     ]
    },
    {
     "name": "stdout",
     "output_type": "stream",
     "text": [
      "Pause 60s pour respecter la limite de 5 téléchargements/minute...\n"
     ]
    },
    {
     "name": "stderr",
     "output_type": "stream",
     "text": [
      "Batch 19: 100%|██████████| 5/5 [00:01<00:00,  4.15it/s]\n"
     ]
    },
    {
     "name": "stdout",
     "output_type": "stream",
     "text": [
      "Pause 60s pour respecter la limite de 5 téléchargements/minute...\n"
     ]
    },
    {
     "name": "stderr",
     "output_type": "stream",
     "text": [
      "Batch 20: 100%|██████████| 2/2 [00:01<00:00,  1.81it/s]\n"
     ]
    }
   ],
   "source": [
    "# Téléchargement avec ThreadPoolExecutor et limitation de débit\n",
    "results = []\n",
    "for i in range(0, len(zip_links), MAX_PARALLEL):\n",
    "    batch = zip_links[i:i+MAX_PARALLEL]\n",
    "    with ThreadPoolExecutor(max_workers=MAX_PARALLEL) as executor:\n",
    "        future_to_url = {executor.submit(download_file, url, DEST_DIR): url for url in batch}\n",
    "        for future in tqdm(as_completed(future_to_url), total=len(batch), desc=f\"Batch {i//MAX_PARALLEL+1}\"):\n",
    "            url = future_to_url[future]\n",
    "            try:\n",
    "                filename, status = future.result()\n",
    "                results.append((filename, status))\n",
    "            except Exception as exc:\n",
    "                results.append((url, f'erreur: {exc}'))\n",
    "    if i + MAX_PARALLEL < len(zip_links):\n",
    "        print(f\"Pause {RATE_LIMIT_SECONDS}s pour respecter la limite de 5 téléchargements/minute...\")\n",
    "        time.sleep(RATE_LIMIT_SECONDS)"
   ]
  },
  {
   "cell_type": "code",
   "execution_count": 50,
   "id": "7f60c4a0",
   "metadata": {},
   "outputs": [
    {
     "name": "stdout",
     "output_type": "stream",
     "text": [
      "\n",
      "Téléchargements réussis: 97/97\n",
      "Aucune erreur détectée.\n"
     ]
    }
   ],
   "source": [
    "# Résumé\n",
    "ok = sum(1 for _, s in results if s == 'ok')\n",
    "erreurs = [(f, s) for f, s in results if s != 'ok' and s != 'déjà téléchargé']\n",
    "print(f\"\\nTéléchargements réussis: {ok}/{len(zip_links)}\")\n",
    "if erreurs:\n",
    "    print(\"Erreurs:\")\n",
    "    for f, s in erreurs:\n",
    "        print(f\"- {f}: {s}\")\n",
    "else:\n",
    "    print(\"Aucune erreur détectée.\")"
   ]
  }
 ],
 "metadata": {
  "kernelspec": {
   "display_name": "hermes-X3pwqMMo-py3.11",
   "language": "python",
   "name": "python3"
  },
  "language_info": {
   "codemirror_mode": {
    "name": "ipython",
    "version": 3
   },
   "file_extension": ".py",
   "mimetype": "text/x-python",
   "name": "python",
   "nbconvert_exporter": "python",
   "pygments_lexer": "ipython3",
   "version": "3.11.13"
  }
 },
 "nbformat": 4,
 "nbformat_minor": 5
}
