{
 "cells": [
  {
   "cell_type": "markdown",
   "id": "12c65494",
   "metadata": {},
   "source": [
    "# Récupération des transactions BTCUSDT par minute sur Binance\n",
    "Ce notebook télécharge et agrège les transactions BTCUSDT par minute sur 1 an et demi."
   ]
  },
  {
   "cell_type": "code",
   "execution_count": 1,
   "id": "c47dbb4b",
   "metadata": {},
   "outputs": [],
   "source": [
    "import requests\n",
    "import pandas as pd\n",
    "import time\n",
    "import os\n",
    "from datetime import datetime\n",
    "import subprocess\n",
    "import json\n"
   ]
  },
  {
   "cell_type": "code",
   "execution_count": 4,
   "id": "775c718a",
   "metadata": {},
   "outputs": [
    {
     "name": "stdout",
     "output_type": "stream",
     "text": [
      "Erreur : la variable d'environnement BW_SESSION n'est pas définie.\n",
      "Dans le terminal, lance : export BW_SESSION=$(bw unlock --raw)\n"
     ]
    }
   ],
   "source": [
    "def get_bitwarden_secret(item_name, field):\n",
    "    \"\"\"\n",
    "    Récupère un champ (username ou password) d'un item Bitwarden.\n",
    "    Bitwarden CLI doit être déverrouillé (bw unlock) et BW_SESSION exportée.\n",
    "    \"\"\"\n",
    "    if \"BW_SESSION\" not in os.environ:\n",
    "        print(\"Erreur : la variable d'environnement BW_SESSION n'est pas définie.\")\n",
    "        print(\"Dans le terminal, lance : export BW_SESSION=$(bw unlock --raw)\")\n",
    "        return None\n",
    "\n",
    "    result = subprocess.run(\n",
    "        [\"bw\", \"get\", \"item\", item_name],\n",
    "        capture_output=True, text=True, env=os.environ\n",
    "    )\n",
    "    print(\"Sortie brute Bitwarden :\", result.stdout)  # Diagnostic\n",
    "    try:\n",
    "        item = json.loads(result.stdout)\n",
    "        return item['login'][field]\n",
    "    except Exception as e:\n",
    "        print(\"Erreur Bitwarden : vérifie que Bitwarden est déverrouillé, que BW_SESSION est exportée et que l'item existe.\")\n",
    "        print(\"Message d'erreur :\", e)\n",
    "        print(\"Sortie Bitwarden :\", result.stdout)\n",
    "        return None\n",
    "\n",
    "# Récupère la clé API Binance (champ username) dans l'item binance/hermes_api\n",
    "api_key = get_bitwarden_secret(\"Binance/hermes_api\", \"username\")"
   ]
  },
  {
   "cell_type": "code",
   "execution_count": null,
   "id": "a849a281",
   "metadata": {},
   "outputs": [
    {
     "name": "stdout",
     "output_type": "stream",
     "text": [
      "Veuillez copier la clé API Binance dans le presse-papier, puis appuyez sur Entrée.\n"
     ]
    },
    {
     "ename": "KeyboardInterrupt",
     "evalue": "Interrupted by user",
     "output_type": "error",
     "traceback": [
      "\u001b[31m---------------------------------------------------------------------------\u001b[39m",
      "\u001b[31mKeyboardInterrupt\u001b[39m                         Traceback (most recent call last)",
      "\u001b[36mCell\u001b[39m\u001b[36m \u001b[39m\u001b[32mIn[1]\u001b[39m\u001b[32m, line 13\u001b[39m\n\u001b[32m      8\u001b[39m \u001b[38;5;66;03m# Utilisation de KeePassXC : les secrets sont récupérés via l'intégration avec le gestionnaire de mots de passe du système\u001b[39;00m\n\u001b[32m      9\u001b[39m \u001b[38;5;66;03m# (par exemple, via le presse-papier ou une commande CLI comme keepassxc-cli)\u001b[39;00m\n\u001b[32m     10\u001b[39m \n\u001b[32m     11\u001b[39m \u001b[38;5;66;03m# Demande à l'utilisateur de copier la clé API et le secret depuis KeePassXC (presse-papier ou CLI)\u001b[39;00m\n\u001b[32m     12\u001b[39m \u001b[38;5;28mprint\u001b[39m(\u001b[33m\"\u001b[39m\u001b[33mVeuillez copier la clé API Binance dans le presse-papier, puis appuyez sur Entrée.\u001b[39m\u001b[33m\"\u001b[39m)\n\u001b[32m---> \u001b[39m\u001b[32m13\u001b[39m \u001b[38;5;28;43minput\u001b[39;49m\u001b[43m(\u001b[49m\u001b[43m)\u001b[49m\n\u001b[32m     14\u001b[39m api_key = getpass.getpass(\u001b[33m\"\u001b[39m\u001b[33mCollez la clé API ici (entrée masquée) : \u001b[39m\u001b[33m\"\u001b[39m)\n\u001b[32m     16\u001b[39m \u001b[38;5;28mprint\u001b[39m(\u001b[33m\"\u001b[39m\u001b[33mVeuillez copier le secret API Binance dans le presse-papier, puis appuyez sur Entrée.\u001b[39m\u001b[33m\"\u001b[39m)\n",
      "\u001b[36mFile \u001b[39m\u001b[32m~/.cache/pypoetry/virtualenvs/hermes-X3pwqMMo-py3.11/lib/python3.11/site-packages/ipykernel/kernelbase.py:1275\u001b[39m, in \u001b[36mKernel.raw_input\u001b[39m\u001b[34m(self, prompt)\u001b[39m\n\u001b[32m   1273\u001b[39m     msg = \u001b[33m\"\u001b[39m\u001b[33mraw_input was called, but this frontend does not support input requests.\u001b[39m\u001b[33m\"\u001b[39m\n\u001b[32m   1274\u001b[39m     \u001b[38;5;28;01mraise\u001b[39;00m StdinNotImplementedError(msg)\n\u001b[32m-> \u001b[39m\u001b[32m1275\u001b[39m \u001b[38;5;28;01mreturn\u001b[39;00m \u001b[38;5;28;43mself\u001b[39;49m\u001b[43m.\u001b[49m\u001b[43m_input_request\u001b[49m\u001b[43m(\u001b[49m\n\u001b[32m   1276\u001b[39m \u001b[43m    \u001b[49m\u001b[38;5;28;43mstr\u001b[39;49m\u001b[43m(\u001b[49m\u001b[43mprompt\u001b[49m\u001b[43m)\u001b[49m\u001b[43m,\u001b[49m\n\u001b[32m   1277\u001b[39m \u001b[43m    \u001b[49m\u001b[38;5;28;43mself\u001b[39;49m\u001b[43m.\u001b[49m\u001b[43m_parent_ident\u001b[49m\u001b[43m[\u001b[49m\u001b[33;43m\"\u001b[39;49m\u001b[33;43mshell\u001b[39;49m\u001b[33;43m\"\u001b[39;49m\u001b[43m]\u001b[49m\u001b[43m,\u001b[49m\n\u001b[32m   1278\u001b[39m \u001b[43m    \u001b[49m\u001b[38;5;28;43mself\u001b[39;49m\u001b[43m.\u001b[49m\u001b[43mget_parent\u001b[49m\u001b[43m(\u001b[49m\u001b[33;43m\"\u001b[39;49m\u001b[33;43mshell\u001b[39;49m\u001b[33;43m\"\u001b[39;49m\u001b[43m)\u001b[49m\u001b[43m,\u001b[49m\n\u001b[32m   1279\u001b[39m \u001b[43m    \u001b[49m\u001b[43mpassword\u001b[49m\u001b[43m=\u001b[49m\u001b[38;5;28;43;01mFalse\u001b[39;49;00m\u001b[43m,\u001b[49m\n\u001b[32m   1280\u001b[39m \u001b[43m\u001b[49m\u001b[43m)\u001b[49m\n",
      "\u001b[36mFile \u001b[39m\u001b[32m~/.cache/pypoetry/virtualenvs/hermes-X3pwqMMo-py3.11/lib/python3.11/site-packages/ipykernel/kernelbase.py:1320\u001b[39m, in \u001b[36mKernel._input_request\u001b[39m\u001b[34m(self, prompt, ident, parent, password)\u001b[39m\n\u001b[32m   1317\u001b[39m \u001b[38;5;28;01mexcept\u001b[39;00m \u001b[38;5;167;01mKeyboardInterrupt\u001b[39;00m:\n\u001b[32m   1318\u001b[39m     \u001b[38;5;66;03m# re-raise KeyboardInterrupt, to truncate traceback\u001b[39;00m\n\u001b[32m   1319\u001b[39m     msg = \u001b[33m\"\u001b[39m\u001b[33mInterrupted by user\u001b[39m\u001b[33m\"\u001b[39m\n\u001b[32m-> \u001b[39m\u001b[32m1320\u001b[39m     \u001b[38;5;28;01mraise\u001b[39;00m \u001b[38;5;167;01mKeyboardInterrupt\u001b[39;00m(msg) \u001b[38;5;28;01mfrom\u001b[39;00m\u001b[38;5;250m \u001b[39m\u001b[38;5;28;01mNone\u001b[39;00m\n\u001b[32m   1321\u001b[39m \u001b[38;5;28;01mexcept\u001b[39;00m \u001b[38;5;167;01mException\u001b[39;00m:\n\u001b[32m   1322\u001b[39m     \u001b[38;5;28mself\u001b[39m.log.warning(\u001b[33m\"\u001b[39m\u001b[33mInvalid Message:\u001b[39m\u001b[33m\"\u001b[39m, exc_info=\u001b[38;5;28;01mTrue\u001b[39;00m)\n",
      "\u001b[31mKeyboardInterrupt\u001b[39m: Interrupted by user"
     ]
    }
   ],
   "source": [
    "BASE_URL = \"https://api.binance.com/api/v3/klines\"\n",
    "\n",
    "def get_klines(symbol, interval, start_ms, end_ms=None, limit=1000):\n",
    "    params = {\n",
    "        \"symbol\": symbol.upper(),\n",
    "        \"interval\": interval,\n",
    "        \"startTime\": start_ms,\n",
    "        \"limit\": limit\n",
    "    }\n",
    "    if end_ms:\n",
    "        params[\"endTime\"] = end_ms\n",
    "    r = requests.get(BASE_URL, params=params)\n",
    "    r.raise_for_status()\n",
    "    return r.json()\n",
    "\n",
    "def download_klines_for_symbol(symbol, interval=\"1m\", start_str=\"2017-08-01\",\n",
    "                               out_dir=\"data\", sleep_time=0.2, chunk_size=10_000):\n",
    "    os.makedirs(out_dir, exist_ok=True)\n",
    "    out_file = os.path.join(out_dir, f\"{symbol}_{interval}_binance.parquet\")\n",
    "    if os.path.exists(out_file):\n",
    "        last_df = pd.read_parquet(out_file, engine=\"pyarrow\", columns=[\"close_time\"])\n",
    "        last_ts = int(last_df[\"close_time\"].max().timestamp() * 1000)\n",
    "        start_ts = last_ts + 60_000\n",
    "        print(f\"🔄 {symbol} : reprise depuis {pd.to_datetime(start_ts, unit='ms')}\")\n",
    "    else:\n",
    "        start_ts = int(pd.Timestamp(start_str).timestamp() * 1000)\n",
    "        print(f\"⬇️ {symbol} : démarrage depuis {pd.to_datetime(start_ts, unit='ms')}\")\n",
    "    now_ts = int(datetime.now().timestamp() * 1000)\n",
    "    all_data = []\n",
    "    total_rows = 0\n",
    "    while start_ts < now_ts:\n",
    "        try:\n",
    "            data = get_klines(symbol, interval, start_ts)\n",
    "        except Exception as e:\n",
    "            print(f\"⚠️ Erreur API pour {symbol}, pause 5s : {e}\")\n",
    "            time.sleep(5)\n",
    "            continue\n",
    "        if not data:\n",
    "            break\n",
    "        df = pd.DataFrame(data, columns=[\n",
    "            \"open_time\",\"open\",\"high\",\"low\",\"close\",\"volume\",\n",
    "            \"close_time\",\"quote_asset_volume\",\"num_trades\",\n",
    "            \"taker_buy_base\",\"taker_buy_quote\",\"ignore\"\n",
    "        ])\n",
    "        df[\"open_time\"] = pd.to_datetime(df[\"open_time\"], unit=\"ms\")\n",
    "        df[\"close_time\"] = pd.to_datetime(df[\"close_time\"], unit=\"ms\")\n",
    "        all_data.append(df)\n",
    "        last_open_time = data[-1][0]\n",
    "        start_ts = last_open_time + 60_000\n",
    "        if sum(len(x) for x in all_data) >= chunk_size:\n",
    "            chunk_df = pd.concat(all_data, ignore_index=True)\n",
    "            chunk_df.to_parquet(out_file, engine=\"pyarrow\",\n",
    "                                index=False, append=os.path.exists(out_file))\n",
    "            total_rows += len(chunk_df)\n",
    "            print(f\"✅ {symbol} : {total_rows} lignes sauvegardées (jusqu'à {chunk_df['close_time'].iloc[-1]})\")\n",
    "            all_data = []\n",
    "        time.sleep(sleep_time)\n",
    "    if all_data:\n",
    "        chunk_df = pd.concat(all_data, ignore_index=True)\n",
    "        chunk_df.to_parquet(out_file, engine=\"pyarrow\",\n",
    "                            index=False, append=os.path.exists(out_file))\n",
    "        total_rows += len(chunk_df)\n",
    "        print(f\"✅ {symbol} : {total_rows} lignes sauvegardées (fin)\")\n",
    "    print(f\"📂 {symbol} : complet -> {out_file}\")\n",
    "\n"
   ]
  },
  {
   "cell_type": "code",
   "execution_count": null,
   "id": "4deaebca",
   "metadata": {},
   "outputs": [],
   "source": [
    "def download_multiple_symbols(symbols, interval=\"1m\", start_str=\"2017-08-01\", out_dir=\"data\"):\n",
    "    for sym in symbols:\n",
    "        download_klines_for_symbol(sym, interval=interval, start_str=start_str, out_dir=out_dir)"
   ]
  },
  {
   "cell_type": "code",
   "execution_count": null,
   "id": "5f078e17",
   "metadata": {},
   "outputs": [],
   "source": [
    "# Exemple d'utilisation dans le notebook\n",
    "symbols = [\"BTCUSDT\"]\n",
    "download_multiple_symbols(symbols, interval=\"1m\", start_str=\"2017-08-01\", out_dir=\"data\")\n"
   ]
  }
 ],
 "metadata": {
  "kernelspec": {
   "display_name": "hermes-X3pwqMMo-py3.11",
   "language": "python",
   "name": "python3"
  },
  "language_info": {
   "codemirror_mode": {
    "name": "ipython",
    "version": 3
   },
   "file_extension": ".py",
   "mimetype": "text/x-python",
   "name": "python",
   "nbconvert_exporter": "python",
   "pygments_lexer": "ipython3",
   "version": "3.11.13"
  }
 },
 "nbformat": 4,
 "nbformat_minor": 5
}
