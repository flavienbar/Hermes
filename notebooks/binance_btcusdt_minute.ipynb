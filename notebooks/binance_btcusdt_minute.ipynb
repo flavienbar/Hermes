{
 "cells": [
  {
   "cell_type": "markdown",
   "id": "12c65494",
   "metadata": {},
   "source": [
    "# Récupération des transactions BTCUSDT par minute sur Binance\n",
    "Ce notebook télécharge et agrège les transactions BTCUSDT par minute sur 1 an et demi."
   ]
  },
  {
   "cell_type": "code",
   "execution_count": null,
   "id": "a849a281",
   "metadata": {},
   "outputs": [
    {
     "name": "stdout",
     "output_type": "stream",
     "text": [
      "Veuillez copier la clé API Binance dans le presse-papier, puis appuyez sur Entrée.\n"
     ]
    }
   ],
   "source": [
    "from binance.client import Client\n",
    "import pandas as pd\n",
    "from datetime import datetime, timedelta\n",
    "from tqdm import tqdm\n",
    "import pyperclip\n",
    "\n",
    "# Copiez la clé API Binance dans KeePassXC puis exécutez cette cellule\n",
    "api_key = pyperclip.paste()\n",
    "\n",
    "# Copiez le secret API Binance dans KeePassXC puis exécutez la cellule suivante\n",
    "# (recommandé : séparez la saisie en deux cellules pour plus de sécurité)\n",
    "\n",
    "# Dans la cellule suivante :\n",
    "# import pyperclip\n",
    "# api_secret = pyperclip.paste()\n",
    "# client = Client(api_key, api_secret)\n"
   ]
  },
  {
   "cell_type": "code",
   "execution_count": null,
   "id": "4a234708",
   "metadata": {},
   "outputs": [],
   "source": [
    "# Définir la période\n",
    "end_date = datetime.now()\n",
    "start_date = end_date - timedelta(days=547)  # 1 an et demi\n",
    "\n",
    "interval = Client.KLINE_INTERVAL_1MINUTE\n",
    "symbol = 'BTCUSDT'\n",
    "\n",
    "# Binance limite à 1000 klines par requête, soit ~16h40\n",
    "all_klines = []\n",
    "current = start_date\n",
    "\n",
    "while current < end_date:\n",
    "    next_time = current + timedelta(minutes=1000)\n",
    "    klines = client.get_klines(\n",
    "        symbol=symbol,\n",
    "        interval=interval,\n",
    "        startTime=int(current.timestamp() * 1000),\n",
    "        endTime=int(next_time.timestamp() * 1000)\n",
    "    )\n",
    "    all_klines.extend(klines)\n",
    "    current = next_time\n",
    "    if len(klines) < 1000:\n",
    "        break  # Fin des données\n",
    "\n",
    "# Convertir en DataFrame\n",
    "df = pd.DataFrame(all_klines, columns=[\n",
    "    'open_time', 'open', 'high', 'low', 'close', 'volume',\n",
    "    'close_time', 'quote_asset_volume', 'number_of_trades',\n",
    "    'taker_buy_base_asset_volume', 'taker_buy_quote_asset_volume', 'ignore'\n",
    "])\n",
    "df['minute'] = pd.to_datetime(df['open_time'], unit='ms')\n",
    "df.set_index('minute', inplace=True)\n",
    "df = df[['open', 'high', 'low', 'close', 'volume']]\n",
    "df = df.astype(float)\n",
    "df.head()"
   ]
  }
 ],
 "metadata": {
  "kernelspec": {
   "display_name": "hermes-X3pwqMMo-py3.11",
   "language": "python",
   "name": "python3"
  },
  "language_info": {
   "codemirror_mode": {
    "name": "ipython",
    "version": 3
   },
   "file_extension": ".py",
   "mimetype": "text/x-python",
   "name": "python",
   "nbconvert_exporter": "python",
   "pygments_lexer": "ipython3",
   "version": "3.11.13"
  }
 },
 "nbformat": 4,
 "nbformat_minor": 5
}
