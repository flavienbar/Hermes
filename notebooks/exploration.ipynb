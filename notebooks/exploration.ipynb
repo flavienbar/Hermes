{
 "cells": [
  {
   "cell_type": "markdown",
   "id": "f2ca3a85",
   "metadata": {},
   "source": [
    "# Exploration Quantitative Trading\n",
    "Ce notebook servira à explorer des stratégies de trading."
   ]
  }
 ],
 "metadata": {
  "language_info": {
   "name": "python"
  }
 },
 "nbformat": 4,
 "nbformat_minor": 5
}
